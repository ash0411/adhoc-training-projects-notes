{
 "cells": [
  {
   "cell_type": "code",
   "execution_count": 18,
   "metadata": {},
   "outputs": [
    {
     "name": "stdout",
     "output_type": "stream",
     "text": [
      "4\n",
      "2 3\n"
     ]
    }
   ],
   "source": [
    "x = input()\n",
    "a_time = 1\n",
    "b_time = [0,1] \n",
    "for i in range(2,int(x)+1):\n",
    "    b_temp = b_time[i-2] + b_time[i-1]\n",
    "    b_time.append(b_temp)\n",
    "#print(len(b_time))\n",
    "#print(b_time)\n",
    "if int(x) != 1:\n",
    "    #print(\"in if \")\n",
    "    a_time = b_time[len(b_time)-2]\n",
    "#print(a_time)\n",
    "#print(type(a_time))\n",
    "print(a_time,b_time[-1])\n",
    "#print( str(a_time)+\" \"+str(b_time[len(b_time-1)]))"
   ]
  },
  {
   "cell_type": "code",
   "execution_count": 22,
   "metadata": {},
   "outputs": [
    {
     "name": "stdout",
     "output_type": "stream",
     "text": [
      "3 5 7\n"
     ]
    },
    {
     "data": {
      "text/plain": [
       "['3', '5', '7']"
      ]
     },
     "execution_count": 22,
     "metadata": {},
     "output_type": "execute_result"
    }
   ],
   "source": [
    "x = input().split()\n",
    "x"
   ]
  },
  {
   "cell_type": "code",
   "execution_count": 27,
   "metadata": {},
   "outputs": [
    {
     "data": {
      "text/plain": [
       "1"
      ]
     },
     "execution_count": 27,
     "metadata": {},
     "output_type": "execute_result"
    }
   ],
   "source": [
    "x = [1,3,5]\n",
    "x.pop(0)"
   ]
  },
  {
   "cell_type": "code",
   "execution_count": 31,
   "metadata": {},
   "outputs": [
    {
     "name": "stdout",
     "output_type": "stream",
     "text": [
      "5 3 4\n",
      "3 2 1 1 1\n",
      "4 3 2\n",
      "1 1 4 1\n",
      "in 2\n",
      "in 1\n",
      "7\n"
     ]
    }
   ],
   "source": [
    "no_of_coins = input().split()\n",
    "h_of_1 = input().split()\n",
    "h_of_2 = input().split()\n",
    "h_of_3 = input().split()\n",
    "t_of_1 = 0\n",
    "t_of_2 = 0\n",
    "t_of_3 = 0\n",
    "for i in range(int(no_of_coins[0])): \n",
    "    t_of_1 = t_of_1 + int(h_of_1[i])\n",
    "for i in range(int(no_of_coins[1])):\n",
    "    t_of_2 = t_of_2 + int(h_of_2[i])\n",
    "for i in range(int(no_of_coins[2])):\n",
    "    t_of_3 = t_of_3 + int(h_of_3[i])\n",
    "while t_of_1 != t_of_2 and t_of_2 != t_of_3:\n",
    "    if t_of_1 > t_of_2:\n",
    "        print(\"in 1\")\n",
    "        t_of_1 =t_of_1 - int(h_of_1[0])\n",
    "        h_of_1.pop(0)\n",
    "    elif t_of_1 < t_of_2:\n",
    "        print(\"in 2\")\n",
    "        t_of_2 =t_of_2 - int(h_of_2[0])\n",
    "        h_of_2.pop(0)\n",
    "    elif t_of_3 > t_of_2:\n",
    "        print(\"in 3\")\n",
    "        t_of_3 =t_of_3 - int(h_of_3[0])\n",
    "        h_of_3.pop(0)\n",
    "    elif t_of_2 > t_of_3:\n",
    "        print(\"in 4\")\n",
    "        t_of_2 =t_of_2 - int(h_of_2[0])\n",
    "        h_of_2.pop(0)\n",
    "print(t_of_3)"
   ]
  },
  {
   "cell_type": "code",
   "execution_count": 32,
   "metadata": {},
   "outputs": [
    {
     "ename": "SyntaxError",
     "evalue": "invalid syntax (<ipython-input-32-a00c16ed012a>, line 1)",
     "output_type": "error",
     "traceback": [
      "\u001b[0;36m  File \u001b[0;32m\"<ipython-input-32-a00c16ed012a>\"\u001b[0;36m, line \u001b[0;32m1\u001b[0m\n\u001b[0;31m    5 3 4\u001b[0m\n\u001b[0m      ^\u001b[0m\n\u001b[0;31mSyntaxError\u001b[0m\u001b[0;31m:\u001b[0m invalid syntax\n"
     ]
    }
   ],
   "source": [
    "5 3 4\n",
    "3 2 1 1 1\n",
    "4 3 2\n",
    "1 1 4 1"
   ]
  },
  {
   "cell_type": "code",
   "execution_count": 36,
   "metadata": {},
   "outputs": [
    {
     "name": "stdout",
     "output_type": "stream",
     "text": [
      "['a', 'b', 'c', 'd']\n"
     ]
    }
   ],
   "source": [
    "x = \"abacbd\"\n",
    "k = []\n",
    "for i in range(len(x)):\n",
    "    if x[i] not in k:\n",
    "        k.append(x[i])\n",
    "print(k)        \n"
   ]
  },
  {
   "cell_type": "code",
   "execution_count": null,
   "metadata": {},
   "outputs": [],
   "source": []
  }
 ],
 "metadata": {
  "kernelspec": {
   "display_name": "Python 3",
   "language": "python",
   "name": "python3"
  }
 },
 "nbformat": 4,
 "nbformat_minor": 2
}
