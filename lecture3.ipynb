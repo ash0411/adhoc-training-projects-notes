{
 "cells": [
  {
   "cell_type": "code",
   "execution_count": 9,
   "metadata": {},
   "outputs": [],
   "source": [
    "import subprocess# for system time \n",
    "import webbrowser# it will open default browser\n",
    "import time # to use sleep\n",
    "import sys # to check platform sys.platform"
   ]
  },
  {
   "cell_type": "code",
   "execution_count": 30,
   "metadata": {},
   "outputs": [
    {
     "name": "stdout",
     "output_type": "stream",
     "text": [
      "\n",
      "Press  1  to  start your default web browser :- \n",
      "Press  2  to  check your internet connection speed :- \n",
      "Press  3  to check your internet status  :- \n",
      "Press  4  to check current date and  time:- \n",
      "Press  5   to check current temperature in your city :- \n",
      "Press  6   to check current public IP :- \n",
      "Press  7   to create  a directory in your OS :- \n",
      "Press  8   to reboot your system :- \n",
      "Press  9   to play song in you tube  :- \n",
      "Press  10   to search something in google search engine  :- \n",
      "\n",
      "6\n",
      "you have entered  6\n",
      "  % Total    % Received % Xferd  Average Speed   Time    Time     Time  Current\n",
      "                                 Dload  Upload   Total   Spent    Left  Speed\n",
      "\n",
      "  0     0    0     0    0     0      0      0 --:--:-- --:--:-- --:--:--     0\n",
      "100    15  100    15    0     0     38      0 --:--:-- --:--:-- --:--:--    38\n",
      "122.180.247.137\n",
      "<class 'str'>\n"
     ]
    }
   ],
   "source": [
    "\n",
    "options=\"\"\"\n",
    "Press  1  to  start your default web browser :- \n",
    "Press  2  to  check your internet connection speed :- \n",
    "Press  3  to check your internet status  :- \n",
    "Press  4  to check current date and  time:- \n",
    "Press  5   to check current temperature in your city :- \n",
    "Press  6   to check current public IP :- \n",
    "Press  7   to create  a directory in your OS :- \n",
    "Press  8   to reboot your system :- \n",
    "Press  9   to play song in you tube  :- \n",
    "Press  10   to search something in google search engine  :- \n",
    "\"\"\"\n",
    "print(options)\n",
    "#  to accept input from user\n",
    "choice=input()\n",
    "#  input  function will accept in string form only\n",
    "print(\"you have entered  \"+choice)\n",
    "#  conditional statements\n",
    "if  choice  ==  '4'  :\n",
    "\tprint(\"current time is \",subprocess.getoutput(\"date +%T\"))\n",
    "elif choice == '1':\n",
    "    #opening default browser\n",
    "    print(\"......opening your browser please wait .........\")\n",
    "    time.sleep(2)\n",
    "    webbrowser.open_new_tab('https://www.google.com')\n",
    "elif choice == '3':\n",
    "    output = subprocess.getstatusoutput('ping -c 2 8.8.8.8')\n",
    "    if output[0] == 0:\n",
    "        print(\"your internet is working fine\")\n",
    "    else:\n",
    "        print(\"your internet is not working\")\n",
    "elif choice == '6':\n",
    "    ip1 = subprocess.getoutput(\"curl ifconfig.me\")\n",
    "    print(ip1)\n",
    "    print(type(ip))\n",
    "elif choice == '7':\n",
    "    dir_name = input(\"please enter name of directory\")\n",
    "    dir = subprocess.getstatusoutput(\"mkdir $dir_name\")\n",
    "    if dir[0] == 0:\n",
    "        print(\"successfully created\")\n",
    "    else:\n",
    "        print(\"please choose another name\")\n",
    "elif choice == '10':\n",
    "    #taking user input\n",
    "    msg = input(\"please enter your message to search in google\")\n",
    "    #opening default browser\n",
    "    print(\"......searching ........\")\n",
    "    time.sleep(2)\n",
    "    webbrowser.open_new_tab('https://www.google.com/search?q='+msg)\n",
    "\n",
    "else :\n",
    "\tprint(\"wrong option\")"
   ]
  },
  {
   "cell_type": "code",
   "execution_count": 16,
   "metadata": {},
   "outputs": [],
   "source": [
    "import sys"
   ]
  },
  {
   "cell_type": "code",
   "execution_count": 17,
   "metadata": {},
   "outputs": [
    {
     "data": {
      "text/plain": [
       "'linux'"
      ]
     },
     "execution_count": 17,
     "metadata": {},
     "output_type": "execute_result"
    }
   ],
   "source": [
    "sys.platform"
   ]
  },
  {
   "cell_type": "code",
   "execution_count": null,
   "metadata": {},
   "outputs": [],
   "source": []
  },
  {
   "cell_type": "markdown",
   "metadata": {},
   "source": [
    "can use import os and then use os.mkdir(\"hello\")\n",
    "or \n",
    "os.system(\"mkdir helllooo\")"
   ]
  },
  {
   "cell_type": "code",
   "execution_count": 20,
   "metadata": {},
   "outputs": [
    {
     "data": {
      "text/plain": [
       "256"
      ]
     },
     "execution_count": 20,
     "metadata": {},
     "output_type": "execute_result"
    }
   ],
   "source": [
    "import os \n",
    "os.system(\"mkdir helllooo\")"
   ]
  },
  {
   "cell_type": "code",
   "execution_count": null,
   "metadata": {},
   "outputs": [],
   "source": []
  }
 ],
 "metadata": {
  "kernelspec": {
   "display_name": "Python 3",
   "language": "python",
   "name": "python3"
  },
  "language_info": {
   "codemirror_mode": {
    "name": "ipython",
    "version": 3
   },
   "file_extension": ".py",
   "mimetype": "text/x-python",
   "name": "python",
   "nbconvert_exporter": "python",
   "pygments_lexer": "ipython3",
   "version": "3.6.8"
  }
 },
 "nbformat": 4,
 "nbformat_minor": 2
}
