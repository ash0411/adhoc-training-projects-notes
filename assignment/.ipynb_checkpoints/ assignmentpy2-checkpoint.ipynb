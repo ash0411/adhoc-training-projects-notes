{
 "cells": [
  {
   "cell_type": "markdown",
   "metadata": {},
   "source": [
    "1. to take the input from a file and find the sum\n",
    "2. to give the output using voice\n",
    "3. to take the input using voice "
   ]
  },
  {
   "cell_type": "code",
   "execution_count": 6,
   "metadata": {},
   "outputs": [
    {
     "name": "stdout",
     "output_type": "stream",
     "text": [
      "10\n",
      "\n",
      "12 \n",
      "\n",
      "15\n",
      "\n",
      "22\n",
      "\n",
      "56\n",
      "\n",
      "22\n",
      "\n",
      "88\n",
      "225\n"
     ]
    }
   ],
   "source": [
    "# ques 1\n",
    "sum = 0\n",
    "file_handle = open(\"file.txt\")\n",
    "for i in file_handle:\n",
    "    sum = sum +int(i)\n",
    "    print(i)\n",
    "print(sum)"
   ]
  },
  {
   "cell_type": "code",
   "execution_count": 7,
   "metadata": {},
   "outputs": [],
   "source": [
    "# start of question 2\n",
    "# import sys"
   ]
  },
  {
   "cell_type": "code",
   "execution_count": 4,
   "metadata": {},
   "outputs": [],
   "source": [
    "#!{sys.executable} -m pip install gTTs"
   ]
  },
  {
   "cell_type": "code",
   "execution_count": 5,
   "metadata": {},
   "outputs": [],
   "source": [
    "#!{sys.executable} -m pip install pygame"
   ]
  },
  {
   "cell_type": "code",
   "execution_count": 8,
   "metadata": {},
   "outputs": [],
   "source": [
    "from gtts import gTTS#(could also be done by Pyttsx3)(need to import for question 3)\n",
    "from pygame import mixer"
   ]
  },
  {
   "cell_type": "code",
   "execution_count": 7,
   "metadata": {},
   "outputs": [],
   "source": [
    "#sys.path"
   ]
  },
  {
   "cell_type": "code",
   "execution_count": 8,
   "metadata": {},
   "outputs": [],
   "source": [
    "tts = gTTS(str(sum))\n",
    "tts.save('sum.mp3')"
   ]
  },
  {
   "cell_type": "code",
   "execution_count": 9,
   "metadata": {},
   "outputs": [],
   "source": [
    "mixer.init()\n",
    "mixer.music.load(\"sum.mp3\")\n",
    "mixer.music.play()"
   ]
  },
  {
   "cell_type": "code",
   "execution_count": 10,
   "metadata": {},
   "outputs": [],
   "source": [
    "#!{sys.executable} -m pip install pyaudio"
   ]
  },
  {
   "cell_type": "code",
   "execution_count": 11,
   "metadata": {},
   "outputs": [],
   "source": [
    "#!{sys.executable} -m pip install SpeechRecognition"
   ]
  },
  {
   "cell_type": "code",
   "execution_count": 9,
   "metadata": {},
   "outputs": [],
   "source": [
    "# start of question 3\n",
    "import speech_recognition as sr\n",
    "import pyaudio\n"
   ]
  },
  {
   "cell_type": "code",
   "execution_count": 13,
   "metadata": {},
   "outputs": [
    {
     "name": "stdout",
     "output_type": "stream",
     "text": [
      "Microphone with name \"HDA Intel PCH: CX8200 Analog (hw:0,0)\" found for `Microphone(device_index=0)`\n",
      "Microphone with name \"HDA Intel PCH: HDMI 0 (hw:0,3)\" found for `Microphone(device_index=1)`\n",
      "Microphone with name \"HDA Intel PCH: HDMI 1 (hw:0,7)\" found for `Microphone(device_index=2)`\n",
      "Microphone with name \"HDA Intel PCH: HDMI 2 (hw:0,8)\" found for `Microphone(device_index=3)`\n",
      "Microphone with name \"HDA Intel PCH: HDMI 3 (hw:0,9)\" found for `Microphone(device_index=4)`\n",
      "Microphone with name \"HDA Intel PCH: HDMI 4 (hw:0,10)\" found for `Microphone(device_index=5)`\n",
      "Microphone with name \"sysdefault\" found for `Microphone(device_index=6)`\n",
      "Microphone with name \"hdmi\" found for `Microphone(device_index=7)`\n",
      "Microphone with name \"pulse\" found for `Microphone(device_index=8)`\n",
      "Microphone with name \"default\" found for `Microphone(device_index=9)`\n"
     ]
    }
   ],
   "source": [
    "#for index, name in enumerate(sr.Microphone.list_microphone_names()):# to give the various devices for microphone\n",
    " #   print(\"Microphone with name \\\"{1}\\\" found for `Microphone(device_index={0})`\".format(index, name))"
   ]
  },
  {
   "cell_type": "code",
   "execution_count": 14,
   "metadata": {},
   "outputs": [
    {
     "data": {
      "text/plain": [
       "<speech_recognition.Microphone at 0x7f1f3fa21e80>"
      ]
     },
     "execution_count": 14,
     "metadata": {},
     "output_type": "execute_result"
    }
   ],
   "source": [
    "#sr.Microphone(device_index=9)"
   ]
  },
  {
   "cell_type": "code",
   "execution_count": 5,
   "metadata": {},
   "outputs": [
    {
     "name": "stdout",
     "output_type": "stream",
     "text": [
      "Speak Anything :\n",
      "12 + 15\n",
      "You said : 12 + 15\n",
      "['12 ', ' 15']\n",
      "['12 ', ' 15']\n"
     ]
    }
   ],
   "source": [
    "r = sr.Recognizer()\n",
    "with sr.Microphone() as source:\n",
    "    print(\"Speak Anything :\")\n",
    "    audio = r.listen(source)\n",
    "    try:\n",
    "        text = r.recognize_google(audio)\n",
    "        print(text)\n",
    "        print(\"You said : {}\".format(text))\n",
    "    except:\n",
    "        print(\"Sorry could not recognize what you said\")\n",
    "numbers = text.split('+')\n",
    "sum =0;\n",
    "for i in numbers:\n",
    "    sum = sum + int(i)\n",
    "    print(numbers)\n",
    "tts = gTTS(str(sum))\n",
    "tts.save('sum1.mp3')\n",
    "mixer.init()\n",
    "mixer.music.load(\"sum1.mp3\")\n",
    "mixer.music.play()"
   ]
  },
  {
   "cell_type": "code",
   "execution_count": 67,
   "metadata": {},
   "outputs": [],
   "source": [
    "mixer.music.play()"
   ]
  },
  {
   "cell_type": "code",
   "execution_count": null,
   "metadata": {},
   "outputs": [],
   "source": [
    "imp"
   ]
  }
 ],
 "metadata": {
  "kernelspec": {
   "display_name": "Python 3",
   "language": "python",
   "name": "python3"
  },
  "language_info": {
   "codemirror_mode": {
    "name": "ipython",
    "version": 3
   },
   "file_extension": ".py",
   "mimetype": "text/x-python",
   "name": "python",
   "nbconvert_exporter": "python",
   "pygments_lexer": "ipython3",
   "version": "3.6.8"
  }
 },
 "nbformat": 4,
 "nbformat_minor": 2
}
