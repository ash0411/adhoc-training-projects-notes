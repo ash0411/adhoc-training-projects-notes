{
 "cells": [
  {
   "cell_type": "markdown",
   "metadata": {},
   "source": [
    "# 1"
   ]
  },
  {
   "cell_type": "code",
   "execution_count": 1,
   "metadata": {},
   "outputs": [
    {
     "name": "stdout",
     "output_type": "stream",
     "text": [
      "\n",
      "Please wait a moment while I gather a list of all available modules...\n",
      "\n"
     ]
    },
    {
     "name": "stderr",
     "output_type": "stream",
     "text": [
      "/home/ash/jupter_dir/jupter_env/lib/python3.6/site-packages/IPython/kernel/__init__.py:13: ShimWarning: The `IPython.kernel` package has been deprecated since IPython 4.0.You should import from ipykernel or jupyter_client instead.\n",
      "  \"You should import from ipykernel or jupyter_client instead.\", ShimWarning)\n",
      "Using TensorFlow backend.\n"
     ]
    },
    {
     "name": "stdout",
     "output_type": "stream",
     "text": [
      "pygame 1.9.6\n",
      "Hello from the pygame community. https://www.pygame.org/contribute.html\n"
     ]
    },
    {
     "name": "stderr",
     "output_type": "stream",
     "text": [
      "/usr/lib/python3.6/pkgutil.py:107: VisibleDeprecationWarning: zmq.eventloop.minitornado is deprecated in pyzmq 14.0 and will be removed.\n",
      "    Install tornado itself to use zmq with the tornado IOLoop.\n",
      "    \n",
      "  yield from walk_packages(path, info.name+'.', onerror)\n"
     ]
    },
    {
     "name": "stdout",
     "output_type": "stream",
     "text": [
      "IPython             binascii            jupyter             scipy\n",
      "__future__          binhex              jupyter_client      secrets\n",
      "_ast                bisect              jupyter_console     select\n",
      "_asyncio            bleach              jupyter_core        selectors\n",
      "_bisect             bs4                 keras               send2trash\n",
      "_blake2             builtins            keras_applications  setuptools\n",
      "_bootlocale         bz2                 keras_preprocessing shelve\n",
      "_bz2                cProfile            keyword             shlex\n",
      "_codecs             calendar            kiwisolver          shutil\n",
      "_codecs_cn          certifi             lib2to3             signal\n",
      "_codecs_hk          cgi                 linecache           site\n",
      "_codecs_iso2022     cgitb               locale              sitecustomize\n",
      "_codecs_jp          chardet             logging             six\n",
      "_codecs_kr          chunk               lzma                smtpd\n",
      "_codecs_tw          click               macpath             smtplib\n",
      "_collections        cmath               macurl2path         sndhdr\n",
      "_collections_abc    cmd                 mailbox             socket\n",
      "_compat_pickle      code                mailcap             socketserver\n",
      "_compression        codecs              markupsafe          soupsieve\n",
      "_crypt              codeop              marshal             speech_recognition\n",
      "_csv                collections         math                spwd\n",
      "_ctypes             colorsys            matplotlib          sqlite3\n",
      "_ctypes_test        compileall          mimetypes           sre_compile\n",
      "_curses             concurrent          mistune             sre_constants\n",
      "_curses_panel       configparser        mixer               sre_parse\n",
      "_datetime           contextlib          mmap                ssl\n",
      "_dbm                copy                modulefinder        stat\n",
      "_decimal            copyreg             multiprocessing     statistics\n",
      "_dummy_thread       crypt               nbconvert           storemagic\n",
      "_elementtree        csv                 nbformat            string\n",
      "_functools          ctypes              netrc               stringprep\n",
      "_gdbm               curses              nis                 struct\n",
      "_hashlib            cycler              nntplib             subprocess\n",
      "_heapq              cythonmagic         notebook            sunau\n",
      "_imp                datetime            ntpath              symbol\n",
      "_io                 dateutil            nturl2path          sympyprinting\n",
      "_json               dbm                 numbers             symtable\n",
      "_locale             decimal             numpy               sys\n",
      "_lsprof             decorator           opcode              sysconfig\n",
      "_lzma               defusedxml          operator            syslog\n",
      "_markupbase         difflib             optparse            tabnanny\n",
      "_md5                dis                 os                  tarfile\n",
      "_multibytecodec     distutils           ossaudiodev         telnetlib\n",
      "_multiprocessing    docs                pandas              tempfile\n",
      "_opcode             doctest             pandocfilters       terminado\n",
      "_operator           dummy_threading     parser              termios\n",
      "_osx_support        easy_install        parso               test\n",
      "_pickle             email               pathlib             testpath\n",
      "_portaudio          encodings           pdb                 tests\n",
      "_posixsubprocess    ensurepip           pexpect             text_unidecode\n",
      "_pydecimal          entrypoints         pickle              textwrap\n",
      "_pyio               enum                pickleshare         this\n",
      "_pyrsistent_version errno               pickletools         threading\n",
      "_random             faker               pip                 time\n",
      "_sha1               faulthandler        pipes               timeit\n",
      "_sha256             fcntl               pkg_resources       token\n",
      "_sha3               filecmp             pkgutil             tokenize\n",
      "_sha512             fileinput           platform            tornado\n",
      "_signal             fnmatch             plistlib            tqdm\n",
      "_sitebuiltins       formatter           poplib              trace\n",
      "_socket             fractions           posix               traceback\n",
      "_sqlite3            ftplib              posixpath           tracemalloc\n",
      "_sre                functools           pprint              traitlets\n",
      "_ssl                gc                  profile             tty\n",
      "_stat               genericpath         prometheus_client   turtle\n",
      "_string             getopt              prompt_toolkit      types\n",
      "_strptime           getpass             pstats              typing\n",
      "_struct             gettext             pty                 unicodedata\n",
      "_symtable           glob                ptyprocess          unittest\n",
      "_sysconfigdata_m_linux_x86_64-linux-gnu grp                 pvectorc            urllib\n",
      "_testbuffer         gtts                pwd                 urllib3\n",
      "_testcapi           gtts_token          py_compile          uu\n",
      "_testimportmultiple gzip                pyaudio             uuid\n",
      "_testmultiphase     h5py                pyclbr              venv\n",
      "_thread             hashlib             pydoc               warnings\n",
      "_threading_local    heapq               pydoc_data          wave\n",
      "_tracemalloc        hmac                pyexpat             wcwidth\n",
      "_warnings           html                pygame              weakref\n",
      "_weakref            http                pygments            webbrowser\n",
      "_weakrefset         idna                pylab               webencodings\n",
      "abc                 imaplib             pyparsing           wheel\n",
      "aifc                imghdr              pyrsistent          widgetsnbextension\n",
      "antigravity         imp                 pytz                wsgiref\n",
      "argparse            importlib           qtconsole           xdrlib\n",
      "array               inspect             queue               xml\n",
      "ast                 io                  quopri              xmlrpc\n",
      "asynchat            ipaddress           random              xxlimited\n",
      "asyncio             ipykernel           re                  xxsubtype\n",
      "asyncore            ipykernel_launcher  readline            yaml\n",
      "atexit              ipython_genutils    reprlib             zipapp\n",
      "attr                ipywidgets          requests            zipfile\n",
      "audioop             itertools           resource            zipimport\n",
      "autoreload          jedi                rlcompleter         zlib\n",
      "backcall            jinja2              rmagic              zmq\n",
      "base64              json                runpy               \n",
      "bdb                 jsonschema          sched               \n",
      "\n",
      "Enter any module name to get more help.  Or, type \"modules spam\" to search\n",
      "for modules whose name or summary contain the string \"spam\".\n",
      "\n"
     ]
    }
   ],
   "source": [
    "help('modules')"
   ]
  },
  {
   "cell_type": "code",
   "execution_count": 3,
   "metadata": {},
   "outputs": [
    {
     "name": "stdout",
     "output_type": "stream",
     "text": [
      "\n",
      "Here is a list of modules whose name or summary contains 'path'.\n",
      "If there are any, enter a module name to get more help.\n",
      "\n",
      "genericpath - Path operations common to more than one OS\n",
      "importlib._bootstrap_external - Core implementation of path-based import.\n",
      "ntpath - Common pathname manipulations, WindowsNT/95 version.\n",
      "posixpath - Common operations on Posix pathnames.\n",
      "site - Append module search paths for third-party packages to sys.path.\n",
      "macpath - Pathname and path-related operations for the Macintosh.\n",
      "macurl2path - Macintosh-specific module for conversion between pathnames and URLs.\n",
      "nturl2path - Convert a NT pathname to a file URL and vice versa.\n",
      "pathlib \n",
      "xml.etree.ElementPath \n",
      "IPython.core.tests.test_paths \n",
      "IPython.lib.tests.test_latextools - Tests for IPython.utils.path.py\n",
      "IPython.paths - Find files and directories which IPython uses.\n",
      "IPython.utils.module_paths - Utility functions for finding modules\n",
      "IPython.utils.path - Utilities for path handling.\n",
      "IPython.utils.syspathcontext - Context managers for adding things to sys.path temporarily.\n",
      "IPython.utils.tests.test_module_paths - Tests for IPython.utils.module_paths.py\n",
      "IPython.utils.tests.test_path - Tests for IPython.utils.path.py\n",
      "chardet.cli.chardetect - Script which takes one or more file paths and reports on their detected\n",
      "ipython_genutils.path - Utilities for path handling.\n",
      "ipython_genutils.tests.test_path - Tests for genutils.path\n",
      "jedi.evaluate.sys_path \n",
      "jupyter_core.paths - Path utility functions.\n",
      "jupyter_core.tests.test_paths - Tests for paths\n"
     ]
    },
    {
     "name": "stderr",
     "output_type": "stream",
     "text": [
      "Using TensorFlow backend.\n"
     ]
    },
    {
     "name": "stdout",
     "output_type": "stream",
     "text": [
      "matplotlib._path \n",
      "matplotlib.bezier - A module providing some utility functions regarding bezier path manipulation.\n",
      "matplotlib.path - A module for dealing with the polylines used throughout Matplotlib.\n",
      "matplotlib.patheffects - Defines classes for path effects. The path effects are supported in\n",
      "matplotlib.textpath \n",
      "notebook.tests.test_paths \n",
      "numpy.distutils.fcompiler.pathf95 \n",
      "numpy.distutils.pathccompiler \n",
      "pip._vendor.chardet.cli.chardetect - Script which takes one or more file paths and reports on their detected\n",
      "scipy.io.matlab.tests.test_pathological - Test reading of files not conforming to matlab specification\n",
      "scipy.io.tests.test_paths - Ensure that we can use pathlib.Path objects in all relevant IO functions.\n",
      "scipy.sparse.csgraph._shortest_path \n",
      "scipy.sparse.csgraph.tests.test_shortest_path \n",
      "testpath - Test utilities for code working with files and commands\n",
      "testpath.asserts \n",
      "testpath.commands \n",
      "testpath.env \n",
      "testpath.tempdir - TemporaryDirectory class, copied from Python 3\n",
      "\n"
     ]
    }
   ],
   "source": [
    "help('modules path')"
   ]
  },
  {
   "cell_type": "code",
   "execution_count": 4,
   "metadata": {},
   "outputs": [
    {
     "ename": "ModuleNotFoundError",
     "evalue": "No module named 'path'",
     "output_type": "error",
     "traceback": [
      "\u001b[0;31m---------------------------------------------------------------------------\u001b[0m",
      "\u001b[0;31mModuleNotFoundError\u001b[0m                       Traceback (most recent call last)",
      "\u001b[0;32m<ipython-input-4-d9cc46a2e729>\u001b[0m in \u001b[0;36m<module>\u001b[0;34m\u001b[0m\n\u001b[0;32m----> 1\u001b[0;31m \u001b[0;32mimport\u001b[0m \u001b[0mpath\u001b[0m\u001b[0;34m\u001b[0m\u001b[0;34m\u001b[0m\u001b[0m\n\u001b[0m",
      "\u001b[0;31mModuleNotFoundError\u001b[0m: No module named 'path'"
     ]
    }
   ],
   "source": [
    "import path"
   ]
  },
  {
   "cell_type": "code",
   "execution_count": 6,
   "metadata": {},
   "outputs": [],
   "source": [
    "import sys"
   ]
  },
  {
   "cell_type": "code",
   "execution_count": 17,
   "metadata": {
    "scrolled": false
   },
   "outputs": [
    {
     "name": "stdout",
     "output_type": "stream",
     "text": [
      "Collecting pathlib\n",
      "\u001b[?25l  Downloading https://files.pythonhosted.org/packages/ac/aa/9b065a76b9af472437a0059f77e8f962fe350438b927cb80184c32f075eb/pathlib-1.0.1.tar.gz (49kB)\n",
      "\u001b[K     |████████████████████████████████| 51kB 122kB/s eta 0:00:01\n",
      "\u001b[?25hBuilding wheels for collected packages: pathlib\n",
      "  Building wheel for pathlib (setup.py) ... \u001b[?25ldone\n",
      "\u001b[?25h  Created wheel for pathlib: filename=pathlib-1.0.1-cp36-none-any.whl size=14348 sha256=e7e73b3ad16644ae356ea6310ea87d87ebdfb1bd9aca5216e49227026a4395ce\n",
      "  Stored in directory: /home/ash/.cache/pip/wheels/f9/b2/4a/68efdfe5093638a9918bd1bb734af625526e849487200aa171\n",
      "Successfully built pathlib\n",
      "Installing collected packages: pathlib\n",
      "Successfully installed pathlib-1.0.1\n",
      "\u001b[33mWARNING: You are using pip version 19.2.3, however version 19.3.1 is available.\n",
      "You should consider upgrading via the 'pip install --upgrade pip' command.\u001b[0m\n"
     ]
    }
   ],
   "source": [
    "!{sys.executable} -m pip install pathlib"
   ]
  },
  {
   "cell_type": "code",
   "execution_count": 22,
   "metadata": {},
   "outputs": [],
   "source": [
    "from pathlib import Path\n",
    "Path('hi.txt').touch()"
   ]
  },
  {
   "cell_type": "code",
   "execution_count": 25,
   "metadata": {},
   "outputs": [],
   "source": [
    "import os\n",
    "from stat import S_ISDIR, S_ISLNK, S_ISREG, S_ISSOCK, S_ISBLK, S_ISCHR, S_ISFIFO"
   ]
  },
  {
   "cell_type": "code",
   "execution_count": 30,
   "metadata": {},
   "outputs": [
    {
     "name": "stdout",
     "output_type": "stream",
     "text": [
      "2\n"
     ]
    }
   ],
   "source": [
    "try: \n",
    "    os.stat('hisdjkhi.txt')\n",
    "except OSError as e:\n",
    "    print(e.errno)"
   ]
  },
  {
   "cell_type": "code",
   "execution_count": null,
   "metadata": {},
   "outputs": [],
   "source": []
  }
 ],
 "metadata": {
  "kernelspec": {
   "display_name": "Python 3",
   "language": "python",
   "name": "python3"
  },
  "language_info": {
   "codemirror_mode": {
    "name": "ipython",
    "version": 3
   },
   "file_extension": ".py",
   "mimetype": "text/x-python",
   "name": "python",
   "nbconvert_exporter": "python",
   "pygments_lexer": "ipython3",
   "version": "3.6.8"
  }
 },
 "nbformat": 4,
 "nbformat_minor": 2
}
