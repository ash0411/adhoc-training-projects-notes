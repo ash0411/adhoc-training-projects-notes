{
 "cells": [
  {
   "cell_type": "markdown",
   "metadata": {},
   "source": [
    "# socket continued"
   ]
  },
  {
   "cell_type": "markdown",
   "metadata": {},
   "source": [
    "## UDP\n",
    "sender sends message to reciever "
   ]
  },
  {
   "cell_type": "code",
   "execution_count": 1,
   "metadata": {},
   "outputs": [
    {
     "name": "stdout",
     "output_type": "stream",
     "text": [
      "Collecting pyttsx3\n",
      "  Using cached https://files.pythonhosted.org/packages/2f/ca/019a5d782f355bc2040ac45bd9612995652934dc16e48873d3fb2e367547/pyttsx3-2.71-py3-none-any.whl\n",
      "Installing collected packages: pyttsx3\n",
      "Successfully installed pyttsx3-2.71\n",
      "\u001b[33mWARNING: You are using pip version 19.2.3, however version 19.3.1 is available.\n",
      "You should consider upgrading via the 'pip install --upgrade pip' command.\u001b[0m\n"
     ]
    }
   ],
   "source": [
    "!pip install pyttsx3"
   ]
  },
  {
   "cell_type": "code",
   "execution_count": 1,
   "metadata": {},
   "outputs": [],
   "source": [
    "import socket,time\n",
    "import pyttsx3"
   ]
  },
  {
   "cell_type": "code",
   "execution_count": null,
   "metadata": {},
   "outputs": [
    {
     "name": "stdout",
     "output_type": "stream",
     "text": [
      "please enter your message : hey there\n"
     ]
    }
   ],
   "source": [
    "target_ip = \"127.0.0.1\"\n",
    "target_port = 1233\n",
    "# now we are creating udp socket -- this is for all sender and reciever\n",
    "# it means we use ipv4,UDP\n",
    "s = socket.socket(socket.AF_INET,socket.SOCK_DGRAM)\n",
    "#this is only for reciever\n",
    "# s.bind((target_ip,target_port))\n",
    "'''while True:\n",
    "    time.sleep(1)\n",
    "    clien_data = s.recvfrom(100)\n",
    "    print(client_data)\n",
    "    print(\"now replying  to \",client_data[1][0])\n",
    "'''\n",
    "#s.recvfrom(100)       #per message data limit\n",
    "\n",
    "#this is for sender\n",
    "while True:\n",
    "    msg = input(\"please enter your message : \")\n",
    "#now we can send to target\n",
    "    #msg = 'vkv here'\n",
    "    new_msg = msg.encode('ascii')\n",
    "#print(new_msg)\n",
    "# we have to encode string to byte like object in python3 only\n",
    "    s.sendto(new_msg,(target_ip,target_port))\n",
    "    print(s.recvfrom(100))"
   ]
  },
  {
   "cell_type": "code",
   "execution_count": null,
   "metadata": {},
   "outputs": [],
   "source": [
    "target_ip = \"127.0.0.1\"\n",
    "target_port = 1234\n",
    "# now we are creating udp socket -- this is for all sender and reciever\n",
    "# it means we use ipv4,UDP\n",
    "s = socket.socket(socket.AF_INET,socket.SOCK_DGRAM)\n",
    "#this is only for reciever\n",
    "s.bind((target_ip,target_port))\n",
    "while True:\n",
    "    time.sleep(1)\n",
    "    client_data = s.recvfrom(100)\n",
    "    audio1 = pyttsx3.init()\n",
    "    audio1.say(client_data[0].decode('ascii'))\n",
    "    audio1.runAndWait()\n",
    "    print(client_data)\n",
    "    print(\"now replying  to \",client_data[1][0])\n",
    "    s.sendto(\"hii guys thanks for the message \".encode('ascii'),client_data[1])\n",
    "    # now saving data\n",
    "    subprocess.getoutput(\"touch \" + client_data[1][0] + \".txt\")\n",
    "    with open(client_data[1][0]+\".txt\",\"a\") as f:\n",
    "        f.write(client_data[0].decode('ascii'))\n",
    "    "
   ]
  },
  {
   "cell_type": "code",
   "execution_count": 2,
   "metadata": {},
   "outputs": [],
   "source": [
    "# if your file size is more than 1 mb than you have to save it in cloud"
   ]
  },
  {
   "cell_type": "code",
   "execution_count": 4,
   "metadata": {},
   "outputs": [
    {
     "name": "stdout",
     "output_type": "stream",
     "text": [
      "Collecting pyqrcode\n",
      "  Downloading https://files.pythonhosted.org/packages/37/61/f07226075c347897937d4086ef8e55f0a62ae535e28069884ac68d979316/PyQRCode-1.2.1.tar.gz\n",
      "Building wheels for collected packages: pyqrcode\n",
      "  Building wheel for pyqrcode (setup.py) ... \u001b[?25ldone\n",
      "\u001b[?25h  Created wheel for pyqrcode: filename=PyQRCode-1.2.1-cp36-none-any.whl size=36247 sha256=cb02f16b59f7f734cdcbac4316ad387f71da02acdad889a69a8414b9a07b95f5\n",
      "  Stored in directory: /home/ash/.cache/pip/wheels/54/61/2f/a4f51b09473db5737db0f654ed10eb9a4ee01f83a7412de349\n",
      "Successfully built pyqrcode\n",
      "Installing collected packages: pyqrcode\n",
      "Successfully installed pyqrcode-1.2.1\n",
      "\u001b[33mWARNING: You are using pip version 19.2.3, however version 19.3.1 is available.\n",
      "You should consider upgrading via the 'pip install --upgrade pip' command.\u001b[0m\n"
     ]
    }
   ],
   "source": [
    "# if you want to make qr code from python than\n",
    "# pyqrcode\n",
    "!pip install pyqrcode"
   ]
  },
  {
   "cell_type": "code",
   "execution_count": 1,
   "metadata": {},
   "outputs": [],
   "source": [
    "import pyqrcode"
   ]
  },
  {
   "cell_type": "code",
   "execution_count": 2,
   "metadata": {},
   "outputs": [],
   "source": [
    "mydata = pyqrcode.create(\"http://github.com/ash0411\")\n",
    "mydata.svg(\"github.svg\",scale=15)"
   ]
  },
  {
   "cell_type": "code",
   "execution_count": 4,
   "metadata": {},
   "outputs": [],
   "source": [
    " engine = pyttsx3.init()\n",
    "engine.say(\"I will speak this text\")\n",
    "engine.runAndWait()"
   ]
  },
  {
   "cell_type": "code",
   "execution_count": null,
   "metadata": {},
   "outputs": [],
   "source": []
  }
 ],
 "metadata": {
  "kernelspec": {
   "display_name": "Python 3",
   "language": "python",
   "name": "python3"
  },
  "language_info": {
   "codemirror_mode": {
    "name": "ipython",
    "version": 3
   },
   "file_extension": ".py",
   "mimetype": "text/x-python",
   "name": "python",
   "nbconvert_exporter": "python",
   "pygments_lexer": "ipython3",
   "version": "3.6.8"
  }
 },
 "nbformat": 4,
 "nbformat_minor": 2
}
