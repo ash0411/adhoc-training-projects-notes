{
 "cells": [
  {
   "cell_type": "code",
   "execution_count": 10,
   "metadata": {},
   "outputs": [],
   "source": [
    "import math,time"
   ]
  },
  {
   "cell_type": "code",
   "execution_count": 2,
   "metadata": {},
   "outputs": [],
   "source": [
    "# theano is bigger than numpy for mathematical library"
   ]
  },
  {
   "cell_type": "code",
   "execution_count": 3,
   "metadata": {},
   "outputs": [],
   "source": [
    "# how to hande api from python \n",
    "# api being used REST api \n",
    "#GRPc api by go"
   ]
  },
  {
   "cell_type": "markdown",
   "metadata": {},
   "source": [
    "api sends you to dns which sends you to endpoint if  you access through api then you need access key and secret key. <br>\n",
    "to connect python to twitter api we use tweepy "
   ]
  },
  {
   "cell_type": "code",
   "execution_count": 2,
   "metadata": {},
   "outputs": [
    {
     "name": "stdout",
     "output_type": "stream",
     "text": [
      "Collecting tweepy\n",
      "  Using cached https://files.pythonhosted.org/packages/36/1b/2bd38043d22ade352fc3d3902cf30ce0e2f4bf285be3b304a2782a767aec/tweepy-3.8.0-py2.py3-none-any.whl\n",
      "Requirement already satisfied: six>=1.10.0 in /home/ash/jupter_dir/jupter_env/lib/python3.6/site-packages (from tweepy) (1.12.0)\n",
      "Collecting PySocks>=1.5.7 (from tweepy)\n",
      "  Using cached https://files.pythonhosted.org/packages/8d/59/b4572118e098ac8e46e399a1dd0f2d85403ce8bbaad9ec79373ed6badaf9/PySocks-1.7.1-py3-none-any.whl\n",
      "Requirement already satisfied: requests>=2.11.1 in /home/ash/jupter_dir/jupter_env/lib/python3.6/site-packages (from tweepy) (2.22.0)\n",
      "Collecting requests-oauthlib>=0.7.0 (from tweepy)\n",
      "  Using cached https://files.pythonhosted.org/packages/a3/12/b92740d845ab62ea4edf04d2f4164d82532b5a0b03836d4d4e71c6f3d379/requests_oauthlib-1.3.0-py2.py3-none-any.whl\n",
      "Requirement already satisfied: chardet<3.1.0,>=3.0.2 in /home/ash/jupter_dir/jupter_env/lib/python3.6/site-packages (from requests>=2.11.1->tweepy) (3.0.4)\n",
      "Requirement already satisfied: urllib3!=1.25.0,!=1.25.1,<1.26,>=1.21.1 in /home/ash/jupter_dir/jupter_env/lib/python3.6/site-packages (from requests>=2.11.1->tweepy) (1.25.7)\n",
      "Requirement already satisfied: idna<2.9,>=2.5 in /home/ash/jupter_dir/jupter_env/lib/python3.6/site-packages (from requests>=2.11.1->tweepy) (2.8)\n",
      "Requirement already satisfied: certifi>=2017.4.17 in /home/ash/jupter_dir/jupter_env/lib/python3.6/site-packages (from requests>=2.11.1->tweepy) (2019.11.28)\n",
      "Collecting oauthlib>=3.0.0 (from requests-oauthlib>=0.7.0->tweepy)\n",
      "  Using cached https://files.pythonhosted.org/packages/05/57/ce2e7a8fa7c0afb54a0581b14a65b56e62b5759dbc98e80627142b8a3704/oauthlib-3.1.0-py2.py3-none-any.whl\n",
      "Installing collected packages: PySocks, oauthlib, requests-oauthlib, tweepy\n",
      "Successfully installed PySocks-1.7.1 oauthlib-3.1.0 requests-oauthlib-1.3.0 tweepy-3.8.0\n",
      "\u001b[33mWARNING: You are using pip version 19.2.3, however version 19.3.1 is available.\n",
      "You should consider upgrading via the 'pip install --upgrade pip' command.\u001b[0m\n"
     ]
    }
   ],
   "source": [
    "!pip install tweepy"
   ]
  },
  {
   "cell_type": "code",
   "execution_count": 3,
   "metadata": {},
   "outputs": [],
   "source": [
    "# twitter_api connect\n",
    "import tweepy"
   ]
  },
  {
   "cell_type": "code",
   "execution_count": 14,
   "metadata": {},
   "outputs": [],
   "source": [
    "# here give the keys form dashboard of developer account\n",
    "consumer_key = \"\"\n",
    "consumer_secret = ''\n",
    "access_key = ''\n",
    "access_secret = ''"
   ]
  },
  {
   "cell_type": "code",
   "execution_count": 4,
   "metadata": {},
   "outputs": [
    {
     "data": {
      "text/plain": [
       "['API',\n",
       " 'AppAuthHandler',\n",
       " 'Cache',\n",
       " 'Cursor',\n",
       " 'DirectMessage',\n",
       " 'FileCache',\n",
       " 'Friendship',\n",
       " 'MemoryCache',\n",
       " 'ModelFactory',\n",
       " 'OAuthHandler',\n",
       " 'RateLimitError',\n",
       " 'SavedSearch',\n",
       " 'SearchResults',\n",
       " 'Status',\n",
       " 'Stream',\n",
       " 'StreamListener',\n",
       " 'TweepError',\n",
       " 'User',\n",
       " '__author__',\n",
       " '__builtins__',\n",
       " '__cached__',\n",
       " '__doc__',\n",
       " '__file__',\n",
       " '__license__',\n",
       " '__loader__',\n",
       " '__name__',\n",
       " '__package__',\n",
       " '__path__',\n",
       " '__spec__',\n",
       " '__version__',\n",
       " 'api',\n",
       " 'auth',\n",
       " 'binder',\n",
       " 'cache',\n",
       " 'cursor',\n",
       " 'debug',\n",
       " 'error',\n",
       " 'models',\n",
       " 'parsers',\n",
       " 'streaming',\n",
       " 'utils']"
      ]
     },
     "execution_count": 4,
     "metadata": {},
     "output_type": "execute_result"
    }
   ],
   "source": [
    "dir(tweepy)"
   ]
  },
  {
   "cell_type": "code",
   "execution_count": 9,
   "metadata": {},
   "outputs": [],
   "source": [
    "# now connecting with api gateway\n",
    "auth = tweepy.OAuthHandler(consumer_key,consumer_secret)\n",
    "# now we are going to auth state in bext step as access token, secret\n",
    "auth.set_access_token(access_key,access_secret)\n",
    "# now connecting with api\n",
    "api_connect = tweepy.API(auth)"
   ]
  },
  {
   "cell_type": "code",
   "execution_count": 13,
   "metadata": {},
   "outputs": [
    {
     "name": "stdout",
     "output_type": "stream",
     "text": [
      "RT @ESPNcricinfo: AB de Villiers and Virat Kohli were the only two players who ended the decade with a 60+ ODI average https://t.co/fS70I2c…\n",
      "@@@@@@@@@@@@@@@@@@@@@@@@@@@@@@@@@@@@@@@@@@@@@@@@@@@\n",
      "RT @ESPNcricinfo: AB de Villiers and Virat Kohli were the only two players who ended the decade with a 60+ ODI average https://t.co/fS70I2c…\n",
      "@@@@@@@@@@@@@@@@@@@@@@@@@@@@@@@@@@@@@@@@@@@@@@@@@@@\n",
      "RT @CricketTimesHQ: Virat Kohli clicks a picture with his teammates https://t.co/hdhNxtCob7\n",
      "@@@@@@@@@@@@@@@@@@@@@@@@@@@@@@@@@@@@@@@@@@@@@@@@@@@\n",
      "RT @TeamVKFC: Brian Lara believes Virat Kohli could break his 400-run record in Test cricket😍\n",
      "\n",
      "@BrianLara\n",
      "@imVkohli\n",
      "@BCCI \n",
      "#KingKohli \n",
      "#Vir…\n",
      "@@@@@@@@@@@@@@@@@@@@@@@@@@@@@@@@@@@@@@@@@@@@@@@@@@@\n",
      "RT @TeamViratOffl: Virat Kohli\n",
      "\n",
      "2008 -15\n",
      "Runs : 10,841\n",
      "Centuries :34\n",
      "\n",
      "2016-19\n",
      "Runs : 10,603\n",
      "Centuries: 36\n",
      "\n",
      "We could clearly observe that si…\n",
      "@@@@@@@@@@@@@@@@@@@@@@@@@@@@@@@@@@@@@@@@@@@@@@@@@@@\n",
      "RT @ESPNcricinfo: AB de Villiers and Virat Kohli were the only two players who ended the decade with a 60+ ODI average https://t.co/fS70I2c…\n",
      "@@@@@@@@@@@@@@@@@@@@@@@@@@@@@@@@@@@@@@@@@@@@@@@@@@@\n",
      "RT @ESPNcricinfo: AB de Villiers and Virat Kohli were the only two players who ended the decade with a 60+ ODI average https://t.co/fS70I2c…\n",
      "@@@@@@@@@@@@@@@@@@@@@@@@@@@@@@@@@@@@@@@@@@@@@@@@@@@\n",
      "RT @ESPNcricinfo: AB de Villiers and Virat Kohli were the only two players who ended the decade with a 60+ ODI average https://t.co/fS70I2c…\n",
      "@@@@@@@@@@@@@@@@@@@@@@@@@@@@@@@@@@@@@@@@@@@@@@@@@@@\n",
      "RT @ZiyaKha14634736: @777WhiteDevil Virat kohli #WinnerSid\n",
      "@@@@@@@@@@@@@@@@@@@@@@@@@@@@@@@@@@@@@@@@@@@@@@@@@@@\n",
      "RT @ESPNcricinfo: AB de Villiers and Virat Kohli were the only two players who ended the decade with a 60+ ODI average https://t.co/fS70I2c…\n",
      "@@@@@@@@@@@@@@@@@@@@@@@@@@@@@@@@@@@@@@@@@@@@@@@@@@@\n"
     ]
    }
   ],
   "source": [
    "# now we can search\n",
    "tweets = api_connect.search('virat kohli',count =10)\n",
    "#print(tweets)\n",
    "for i in tweets:\n",
    "    print(i.text)\n",
    "    print(\"@@@@@@@@@@@@@@@@@@@@@@@@@@@@@@@@@@@@@@@@@@@@@@@@@@@\")\n",
    "    time.sleep(1)"
   ]
  },
  {
   "cell_type": "code",
   "execution_count": null,
   "metadata": {},
   "outputs": [],
   "source": []
  }
 ],
 "metadata": {
  "kernelspec": {
   "display_name": "Python 3",
   "language": "python",
   "name": "python3"
  },
  "language_info": {
   "codemirror_mode": {
    "name": "ipython",
    "version": 3
   },
   "file_extension": ".py",
   "mimetype": "text/x-python",
   "name": "python",
   "nbconvert_exporter": "python",
   "pygments_lexer": "ipython3",
   "version": "3.6.8"
  }
 },
 "nbformat": 4,
 "nbformat_minor": 2
}
