{
 "cells": [
  {
   "cell_type": "markdown",
   "metadata": {},
   "source": [
    "# socket continued"
   ]
  },
  {
   "cell_type": "markdown",
   "metadata": {},
   "source": [
    "## UDP\n",
    "sender sends message to reciever "
   ]
  },
  {
   "cell_type": "code",
   "execution_count": 1,
   "metadata": {},
   "outputs": [
    {
     "ename": "ModuleNotFoundError",
     "evalue": "No module named 'pyttsx3'",
     "output_type": "error",
     "traceback": [
      "\u001b[0;31m---------------------------------------------------------------------------\u001b[0m",
      "\u001b[0;31mModuleNotFoundError\u001b[0m                       Traceback (most recent call last)",
      "\u001b[0;32m<ipython-input-1-1c92972e87c0>\u001b[0m in \u001b[0;36m<module>\u001b[0;34m\u001b[0m\n\u001b[1;32m      1\u001b[0m \u001b[0;32mimport\u001b[0m \u001b[0msocket\u001b[0m\u001b[0;34m,\u001b[0m\u001b[0mtime\u001b[0m\u001b[0;34m\u001b[0m\u001b[0;34m\u001b[0m\u001b[0m\n\u001b[0;32m----> 2\u001b[0;31m \u001b[0;32mimport\u001b[0m \u001b[0mpyttsx3\u001b[0m\u001b[0;34m\u001b[0m\u001b[0;34m\u001b[0m\u001b[0m\n\u001b[0m",
      "\u001b[0;31mModuleNotFoundError\u001b[0m: No module named 'pyttsx3'"
     ]
    }
   ],
   "source": [
    "import socket,time\n",
    "import pyttsx3"
   ]
  },
  {
   "cell_type": "code",
   "execution_count": null,
   "metadata": {},
   "outputs": [
    {
     "name": "stdout",
     "output_type": "stream",
     "text": [
      "please enter your message : hii\n"
     ]
    }
   ],
   "source": [
    "target_ip = \"192.168.43.63\"\n",
    "target_port = 1233\n",
    "# now we are creating udp socket -- this is for all sender and reciever\n",
    "# it means we use ipv4,UDP\n",
    "s = socket.socket(socket.AF_INET,socket.SOCK_DGRAM)\n",
    "#this is only for reciever\n",
    "# s.bind((target_ip,target_port))\n",
    "'''while True:\n",
    "    time.sleep(1)\n",
    "    clien_data = s.recvfrom(100)\n",
    "    print(client_data)\n",
    "    print(\"now replying  to \",client_data[1][0])\n",
    "'''\n",
    "#s.recvfrom(100)       #per message data limit\n",
    "\n",
    "#this is for sender\n",
    "while True:\n",
    "    msg = input(\"please enter your message : \")\n",
    "#now we can send to target\n",
    "    #msg = 'vkv here'\n",
    "    new_msg = msg.encode('ascii')\n",
    "#print(new_msg)\n",
    "# we have to encode string to byte like object in python3 only\n",
    "    s.sendto(new_msg,(target_ip,target_port))\n",
    "    print(s.recvfrom(100))"
   ]
  },
  {
   "cell_type": "code",
   "execution_count": null,
   "metadata": {},
   "outputs": [],
   "source": [
    "target_ip = \"192.168.43.201\"\n",
    "target_port = 1233\n",
    "# now we are creating udp socket -- this is for all sender and reciever\n",
    "# it means we use ipv4,UDP\n",
    "s = socket.socket(socket.AF_INET,socket.SOCK_DGRAM)\n",
    "#this is only for reciever\n",
    "# s.bind((target_ip,target_port))\n",
    "while True:\n",
    "    time.sleep(1)\n",
    "    client_data = s.recvfrom(100)\n",
    "    audio1 = pyttsx3.init()\n",
    "    audio1.say(client_data[0].decode('ascii'))\n",
    "    audio1.runAndWait()\n",
    "    print(client_data)\n",
    "    print(\"now replying  to \",client_data[1][0])\n",
    "    s.sendto(\"hii guys thanks for the message \".encode('ascii'),client_data[1])\n",
    "    # now saving data\n",
    "    subprocess.getoutput(\"touch \" + client_data[1][0] + \".txt\")\n",
    "    with open(client_data[1][0]+\".txt\",\"a\") as f:\n",
    "        f.write(client_data[0].decode('ascii'))\n",
    "    "
   ]
  },
  {
   "cell_type": "code",
   "execution_count": 2,
   "metadata": {},
   "outputs": [],
   "source": [
    "# if your file size is more than 1 mb than you have to save it in cloud"
   ]
  },
  {
   "cell_type": "code",
   "execution_count": 4,
   "metadata": {},
   "outputs": [
    {
     "name": "stdout",
     "output_type": "stream",
     "text": [
      "Collecting pyqrcode\n",
      "  Downloading https://files.pythonhosted.org/packages/37/61/f07226075c347897937d4086ef8e55f0a62ae535e28069884ac68d979316/PyQRCode-1.2.1.tar.gz\n",
      "Building wheels for collected packages: pyqrcode\n",
      "  Building wheel for pyqrcode (setup.py) ... \u001b[?25ldone\n",
      "\u001b[?25h  Created wheel for pyqrcode: filename=PyQRCode-1.2.1-cp36-none-any.whl size=36247 sha256=cb02f16b59f7f734cdcbac4316ad387f71da02acdad889a69a8414b9a07b95f5\n",
      "  Stored in directory: /home/ash/.cache/pip/wheels/54/61/2f/a4f51b09473db5737db0f654ed10eb9a4ee01f83a7412de349\n",
      "Successfully built pyqrcode\n",
      "Installing collected packages: pyqrcode\n",
      "Successfully installed pyqrcode-1.2.1\n",
      "\u001b[33mWARNING: You are using pip version 19.2.3, however version 19.3.1 is available.\n",
      "You should consider upgrading via the 'pip install --upgrade pip' command.\u001b[0m\n"
     ]
    }
   ],
   "source": [
    "# if you want to make qr code from python than\n",
    "# pyqrcode\n",
    "!pip install pyqrcode"
   ]
  },
  {
   "cell_type": "code",
   "execution_count": 5,
   "metadata": {},
   "outputs": [],
   "source": [
    "import pyqrcode"
   ]
  },
  {
   "cell_type": "code",
   "execution_count": 7,
   "metadata": {},
   "outputs": [],
   "source": [
    "mydata = pyqrcode.create(\"http://github.com/ash0411\")\n",
    "mydata.svg(\"github.svg\",scale=15)"
   ]
  },
  {
   "cell_type": "code",
   "execution_count": null,
   "metadata": {},
   "outputs": [],
   "source": []
  }
 ],
 "metadata": {
  "kernelspec": {
   "display_name": "Python 3",
   "language": "python",
   "name": "python3"
  }
 },
 "nbformat": 4,
 "nbformat_minor": 2
}
