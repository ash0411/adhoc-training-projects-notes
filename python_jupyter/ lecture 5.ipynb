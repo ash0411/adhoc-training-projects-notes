{
 "cells": [
  {
   "cell_type": "markdown",
   "metadata": {},
   "source": [
    "# protocols"
   ]
  },
  {
   "cell_type": "markdown",
   "metadata": {},
   "source": [
    "ip address is situated in network interface card or ethernet card. this is at the place where we connect lan wire.\n",
    "domain name server it tells what name has what ip and vice versa."
   ]
  },
  {
   "cell_type": "markdown",
   "metadata": {},
   "source": [
    "# File Handling "
   ]
  },
  {
   "cell_type": "markdown",
   "metadata": {},
   "source": [
    "It has 2 parts \n",
    "1.directory handling 2. file handling"
   ]
  },
  {
   "cell_type": "markdown",
   "metadata": {},
   "source": [
    "##                directory handling \n",
    "we use os model in python"
   ]
  },
  {
   "cell_type": "code",
   "execution_count": 2,
   "metadata": {},
   "outputs": [],
   "source": [
    "import os"
   ]
  },
  {
   "cell_type": "code",
   "execution_count": 3,
   "metadata": {},
   "outputs": [
    {
     "data": {
      "text/plain": [
       "['chdir',\n",
       " 'curdir',\n",
       " 'fchdir',\n",
       " 'listdir',\n",
       " 'makedirs',\n",
       " 'mkdir',\n",
       " 'pardir',\n",
       " 'removedirs',\n",
       " 'rmdir',\n",
       " 'scandir',\n",
       " 'supports_dir_fd']"
      ]
     },
     "execution_count": 3,
     "metadata": {},
     "output_type": "execute_result"
    }
   ],
   "source": [
    "[i for i in dir(os) if 'dir' in i]"
   ]
  },
  {
   "cell_type": "code",
   "execution_count": 14,
   "metadata": {},
   "outputs": [],
   "source": [
    "os.mkdir('hello_adhoc')"
   ]
  },
  {
   "cell_type": "code",
   "execution_count": 18,
   "metadata": {},
   "outputs": [
    {
     "data": {
      "text/plain": [
       "['images',\n",
       " 'lecture5.txt',\n",
       " 'assignment',\n",
       " 'linux4.txt',\n",
       " 'python_jupyter',\n",
       " 'day3.txt',\n",
       " 'testing',\n",
       " 'py3.txt',\n",
       " 'lecture7.txt',\n",
       " '.ipynb_checkpoints',\n",
       " 'aws1.txt',\n",
       " 'lecture6.txt',\n",
       " 'README.md',\n",
       " 'python4.txt',\n",
       " '.git',\n",
       " 'find.txt',\n",
       " '1lecture.txt',\n",
       " 'machine',\n",
       " 'try.py']"
      ]
     },
     "execution_count": 18,
     "metadata": {},
     "output_type": "execute_result"
    }
   ],
   "source": [
    "os.listdir('/home/ash/adhoc')"
   ]
  },
  {
   "cell_type": "code",
   "execution_count": 16,
   "metadata": {},
   "outputs": [],
   "source": [
    "os.rmdir('hello_adhoc')"
   ]
  },
  {
   "cell_type": "markdown",
   "metadata": {},
   "source": [
    "# file handling "
   ]
  },
  {
   "cell_type": "markdown",
   "metadata": {},
   "source": [
    "copy,rename(not open)\n",
    "read,write,append,create(open)"
   ]
  },
  {
   "cell_type": "code",
   "execution_count": 19,
   "metadata": {},
   "outputs": [],
   "source": [
    "os.mkdir('testing')"
   ]
  },
  {
   "cell_type": "raw",
   "metadata": {},
   "source": [
    "rest in testing"
   ]
  },
  {
   "cell_type": "markdown",
   "metadata": {},
   "source": [
    "# socket handling"
   ]
  },
  {
   "cell_type": "markdown",
   "metadata": {},
   "source": [
    "to connect a system to other system ( using ip)<br>\n",
    "to make a communication link between various system<br>\n",
    "socket is ip address + port number<br>\n",
    "ip address is like a public home address and post tells us with which part of the computer system you want to work with. but as we can't learn number we use protocol<br>\n",
    "ip code has size 4 bytes and port size is 2 bytes . so socket size is 6 bytes<br>\n",
    "ipv6 has size of 16 bytes<br>\n",
    "0-1024 ports are reserved called previlaged port<br>\n",
    "after this others are called unprevilaged port<br>\n"
   ]
  },
  {
   "cell_type": "markdown",
   "metadata": {},
   "source": [
    "There are 3 big standard protocols TCP/UDP/ICMP\n",
    "UDP - there is no need to make connection in real time, so not reliable, not secure eg dns,messaging., there are multiple distributor<br>\n",
    "TCP - need to make connection in real time,reliable, secure.eg website, email"
   ]
  },
  {
   "cell_type": "code",
   "execution_count": null,
   "metadata": {},
   "outputs": [],
   "source": []
  }
 ],
 "metadata": {
  "kernelspec": {
   "display_name": "Python 3",
   "language": "python",
   "name": "python3"
  },
  "language_info": {
   "codemirror_mode": {
    "name": "ipython",
    "version": 3
   },
   "file_extension": ".py",
   "mimetype": "text/x-python",
   "name": "python",
   "nbconvert_exporter": "python",
   "pygments_lexer": "ipython3",
   "version": "3.6.8"
  }
 },
 "nbformat": 4,
 "nbformat_minor": 2
}
