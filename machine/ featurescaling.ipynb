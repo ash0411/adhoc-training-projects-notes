{
 "cells": [
  {
   "cell_type": "code",
   "execution_count": 1,
   "metadata": {},
   "outputs": [],
   "source": [
    "# now working with knn and external data\n",
    "import pandas as pd\n",
    "import matplotlib.pyplot as plt\n",
    "# rather than matplotlib we can also use seaborn\n",
    "import seaborn as sb"
   ]
  },
  {
   "cell_type": "code",
   "execution_count": 2,
   "metadata": {},
   "outputs": [],
   "source": [
    "df =pd.read_csv(\"datasets/social.csv\")"
   ]
  },
  {
   "cell_type": "code",
   "execution_count": 3,
   "metadata": {},
   "outputs": [
    {
     "data": {
      "text/html": [
       "<div>\n",
       "<style scoped>\n",
       "    .dataframe tbody tr th:only-of-type {\n",
       "        vertical-align: middle;\n",
       "    }\n",
       "\n",
       "    .dataframe tbody tr th {\n",
       "        vertical-align: top;\n",
       "    }\n",
       "\n",
       "    .dataframe thead th {\n",
       "        text-align: right;\n",
       "    }\n",
       "</style>\n",
       "<table border=\"1\" class=\"dataframe\">\n",
       "  <thead>\n",
       "    <tr style=\"text-align: right;\">\n",
       "      <th></th>\n",
       "      <th>User ID</th>\n",
       "      <th>Gender</th>\n",
       "      <th>Age</th>\n",
       "      <th>EstimatedSalary</th>\n",
       "      <th>Purchased</th>\n",
       "    </tr>\n",
       "  </thead>\n",
       "  <tbody>\n",
       "    <tr>\n",
       "      <td>0</td>\n",
       "      <td>15624510</td>\n",
       "      <td>Male</td>\n",
       "      <td>19</td>\n",
       "      <td>19000</td>\n",
       "      <td>0</td>\n",
       "    </tr>\n",
       "    <tr>\n",
       "      <td>1</td>\n",
       "      <td>15810944</td>\n",
       "      <td>Male</td>\n",
       "      <td>35</td>\n",
       "      <td>20000</td>\n",
       "      <td>0</td>\n",
       "    </tr>\n",
       "    <tr>\n",
       "      <td>2</td>\n",
       "      <td>15668575</td>\n",
       "      <td>Female</td>\n",
       "      <td>26</td>\n",
       "      <td>43000</td>\n",
       "      <td>0</td>\n",
       "    </tr>\n",
       "    <tr>\n",
       "      <td>3</td>\n",
       "      <td>15603246</td>\n",
       "      <td>Female</td>\n",
       "      <td>27</td>\n",
       "      <td>57000</td>\n",
       "      <td>0</td>\n",
       "    </tr>\n",
       "    <tr>\n",
       "      <td>4</td>\n",
       "      <td>15804002</td>\n",
       "      <td>Male</td>\n",
       "      <td>19</td>\n",
       "      <td>76000</td>\n",
       "      <td>0</td>\n",
       "    </tr>\n",
       "  </tbody>\n",
       "</table>\n",
       "</div>"
      ],
      "text/plain": [
       "    User ID  Gender  Age  EstimatedSalary  Purchased\n",
       "0  15624510    Male   19            19000          0\n",
       "1  15810944    Male   35            20000          0\n",
       "2  15668575  Female   26            43000          0\n",
       "3  15603246  Female   27            57000          0\n",
       "4  15804002    Male   19            76000          0"
      ]
     },
     "execution_count": 3,
     "metadata": {},
     "output_type": "execute_result"
    }
   ],
   "source": [
    "# printing top5 values in a row\n",
    "df.head()"
   ]
  },
  {
   "cell_type": "code",
   "execution_count": 4,
   "metadata": {},
   "outputs": [
    {
     "name": "stdout",
     "output_type": "stream",
     "text": [
      "<class 'pandas.core.frame.DataFrame'>\n",
      "RangeIndex: 400 entries, 0 to 399\n",
      "Data columns (total 5 columns):\n",
      "User ID            400 non-null int64\n",
      "Gender             400 non-null object\n",
      "Age                400 non-null int64\n",
      "EstimatedSalary    400 non-null int64\n",
      "Purchased          400 non-null int64\n",
      "dtypes: int64(4), object(1)\n",
      "memory usage: 15.8+ KB\n"
     ]
    }
   ],
   "source": [
    "df.info()"
   ]
  },
  {
   "cell_type": "code",
   "execution_count": 5,
   "metadata": {},
   "outputs": [
    {
     "data": {
      "text/plain": [
       "<matplotlib.axes._subplots.AxesSubplot at 0x7f7570196b70>"
      ]
     },
     "execution_count": 5,
     "metadata": {},
     "output_type": "execute_result"
    },
    {
     "data": {
      "image/png": "[encoded data removed]",
      "text/plain": [
       "<Figure size 432x288 with 1 Axes>"
      ]
     },
     "metadata": {
      "needs_background": "light"
     },
     "output_type": "display_data"
    }
   ],
   "source": [
    "sb.countplot(df['Gender'])# to plot a graph to compare the number of males and females"
   ]
  },
  {
   "cell_type": "code",
   "execution_count": 6,
   "metadata": {},
   "outputs": [
    {
     "data": {
      "text/html": [
       "<div>\n",
       "<style scoped>\n",
       "    .dataframe tbody tr th:only-of-type {\n",
       "        vertical-align: middle;\n",
       "    }\n",
       "\n",
       "    .dataframe tbody tr th {\n",
       "        vertical-align: top;\n",
       "    }\n",
       "\n",
       "    .dataframe thead th {\n",
       "        text-align: right;\n",
       "    }\n",
       "</style>\n",
       "<table border=\"1\" class=\"dataframe\">\n",
       "  <thead>\n",
       "    <tr style=\"text-align: right;\">\n",
       "      <th></th>\n",
       "      <th>User ID</th>\n",
       "      <th>Gender</th>\n",
       "      <th>Age</th>\n",
       "      <th>EstimatedSalary</th>\n",
       "      <th>Purchased</th>\n",
       "    </tr>\n",
       "  </thead>\n",
       "  <tbody>\n",
       "    <tr>\n",
       "      <td>0</td>\n",
       "      <td>15624510</td>\n",
       "      <td>Male</td>\n",
       "      <td>19</td>\n",
       "      <td>19000</td>\n",
       "      <td>0</td>\n",
       "    </tr>\n",
       "    <tr>\n",
       "      <td>1</td>\n",
       "      <td>15810944</td>\n",
       "      <td>Male</td>\n",
       "      <td>35</td>\n",
       "      <td>20000</td>\n",
       "      <td>0</td>\n",
       "    </tr>\n",
       "    <tr>\n",
       "      <td>2</td>\n",
       "      <td>15668575</td>\n",
       "      <td>Female</td>\n",
       "      <td>26</td>\n",
       "      <td>43000</td>\n",
       "      <td>0</td>\n",
       "    </tr>\n",
       "    <tr>\n",
       "      <td>3</td>\n",
       "      <td>15603246</td>\n",
       "      <td>Female</td>\n",
       "      <td>27</td>\n",
       "      <td>57000</td>\n",
       "      <td>0</td>\n",
       "    </tr>\n",
       "    <tr>\n",
       "      <td>4</td>\n",
       "      <td>15804002</td>\n",
       "      <td>Male</td>\n",
       "      <td>19</td>\n",
       "      <td>76000</td>\n",
       "      <td>0</td>\n",
       "    </tr>\n",
       "    <tr>\n",
       "      <td>...</td>\n",
       "      <td>...</td>\n",
       "      <td>...</td>\n",
       "      <td>...</td>\n",
       "      <td>...</td>\n",
       "      <td>...</td>\n",
       "    </tr>\n",
       "    <tr>\n",
       "      <td>395</td>\n",
       "      <td>15691863</td>\n",
       "      <td>Female</td>\n",
       "      <td>46</td>\n",
       "      <td>41000</td>\n",
       "      <td>1</td>\n",
       "    </tr>\n",
       "    <tr>\n",
       "      <td>396</td>\n",
       "      <td>15706071</td>\n",
       "      <td>Male</td>\n",
       "      <td>51</td>\n",
       "      <td>23000</td>\n",
       "      <td>1</td>\n",
       "    </tr>\n",
       "    <tr>\n",
       "      <td>397</td>\n",
       "      <td>15654296</td>\n",
       "      <td>Female</td>\n",
       "      <td>50</td>\n",
       "      <td>20000</td>\n",
       "      <td>1</td>\n",
       "    </tr>\n",
       "    <tr>\n",
       "      <td>398</td>\n",
       "      <td>15755018</td>\n",
       "      <td>Male</td>\n",
       "      <td>36</td>\n",
       "      <td>33000</td>\n",
       "      <td>0</td>\n",
       "    </tr>\n",
       "    <tr>\n",
       "      <td>399</td>\n",
       "      <td>15594041</td>\n",
       "      <td>Female</td>\n",
       "      <td>49</td>\n",
       "      <td>36000</td>\n",
       "      <td>1</td>\n",
       "    </tr>\n",
       "  </tbody>\n",
       "</table>\n",
       "<p>400 rows × 5 columns</p>\n",
       "</div>"
      ],
      "text/plain": [
       "      User ID  Gender  Age  EstimatedSalary  Purchased\n",
       "0    15624510    Male   19            19000          0\n",
       "1    15810944    Male   35            20000          0\n",
       "2    15668575  Female   26            43000          0\n",
       "3    15603246  Female   27            57000          0\n",
       "4    15804002    Male   19            76000          0\n",
       "..        ...     ...  ...              ...        ...\n",
       "395  15691863  Female   46            41000          1\n",
       "396  15706071    Male   51            23000          1\n",
       "397  15654296  Female   50            20000          1\n",
       "398  15755018    Male   36            33000          0\n",
       "399  15594041  Female   49            36000          1\n",
       "\n",
       "[400 rows x 5 columns]"
      ]
     },
     "execution_count": 6,
     "metadata": {},
     "output_type": "execute_result"
    }
   ],
   "source": [
    "# data analysis\n",
    "df"
   ]
  },
  {
   "cell_type": "code",
   "execution_count": 7,
   "metadata": {},
   "outputs": [],
   "source": [
    "features = df.iloc[:,2:4].values"
   ]
  },
  {
   "cell_type": "code",
   "execution_count": 8,
   "metadata": {},
   "outputs": [],
   "source": [
    "labels = df.iloc[:,-1].values"
   ]
  },
  {
   "cell_type": "code",
   "execution_count": 9,
   "metadata": {},
   "outputs": [
    {
     "data": {
      "text/plain": [
       "array([0, 0, 0, 0, 0, 0, 0, 1, 0, 0, 0, 0, 0, 0, 0, 0, 1, 1, 1, 1, 1, 1,\n",
       "       1, 1, 1, 1, 1, 1, 0, 0, 0, 1, 0, 0, 0, 0, 0, 0, 0, 0, 0, 0, 0, 0,\n",
       "       0, 0, 0, 0, 1, 0, 0, 0, 0, 0, 0, 0, 0, 0, 0, 0, 0, 0, 0, 1, 0, 0,\n",
       "       0, 0, 0, 0, 0, 0, 0, 0, 0, 1, 0, 0, 0, 0, 0, 0, 0, 0, 0, 1, 0, 0,\n",
       "       0, 0, 0, 0, 0, 0, 0, 0, 0, 1, 0, 0, 0, 0, 0, 1, 0, 0, 0, 0, 0, 0,\n",
       "       0, 0, 0, 0, 0, 0, 0, 0, 0, 0, 0, 0, 0, 0, 0, 0, 0, 0, 0, 0, 0, 0,\n",
       "       0, 0, 0, 0, 0, 1, 0, 0, 0, 0, 0, 0, 0, 0, 1, 0, 0, 0, 0, 0, 0, 0,\n",
       "       0, 0, 0, 0, 0, 1, 1, 0, 0, 0, 0, 0, 0, 0, 1, 0, 0, 0, 0, 0, 0, 0,\n",
       "       0, 0, 0, 0, 0, 0, 1, 0, 0, 0, 0, 0, 0, 0, 0, 0, 0, 0, 0, 0, 0, 0,\n",
       "       0, 0, 0, 0, 1, 0, 1, 0, 1, 0, 1, 0, 1, 1, 0, 0, 0, 1, 0, 0, 0, 1,\n",
       "       0, 1, 1, 1, 0, 0, 1, 1, 0, 1, 1, 0, 1, 1, 0, 1, 0, 0, 0, 1, 1, 0,\n",
       "       1, 1, 0, 1, 0, 1, 0, 1, 0, 0, 1, 1, 0, 1, 0, 0, 1, 1, 0, 1, 1, 0,\n",
       "       1, 1, 0, 0, 1, 0, 0, 1, 1, 1, 1, 1, 0, 1, 1, 1, 1, 0, 1, 1, 0, 1,\n",
       "       0, 1, 0, 1, 1, 1, 1, 0, 0, 0, 1, 1, 0, 1, 1, 1, 1, 1, 0, 0, 0, 1,\n",
       "       1, 0, 0, 1, 0, 1, 0, 1, 1, 0, 1, 0, 1, 1, 0, 1, 1, 0, 0, 0, 1, 1,\n",
       "       0, 1, 0, 0, 1, 0, 1, 0, 0, 1, 1, 0, 0, 1, 1, 0, 1, 1, 0, 0, 1, 0,\n",
       "       1, 0, 1, 1, 1, 0, 1, 0, 1, 1, 1, 0, 1, 1, 1, 1, 0, 1, 1, 1, 0, 1,\n",
       "       0, 1, 0, 0, 1, 1, 0, 1, 1, 1, 1, 1, 1, 0, 1, 1, 1, 1, 1, 1, 0, 1,\n",
       "       1, 1, 0, 1])"
      ]
     },
     "execution_count": 9,
     "metadata": {},
     "output_type": "execute_result"
    }
   ],
   "source": [
    "labels"
   ]
  },
  {
   "cell_type": "code",
   "execution_count": 10,
   "metadata": {},
   "outputs": [],
   "source": [
    "# now spliting data \n",
    "from sklearn.model_selection import train_test_split"
   ]
  },
  {
   "cell_type": "code",
   "execution_count": 11,
   "metadata": {},
   "outputs": [],
   "source": [
    "train_x,test_x,train_y,test_y = train_test_split(features,labels,test_size =0.2)"
   ]
  },
  {
   "cell_type": "code",
   "execution_count": 12,
   "metadata": {},
   "outputs": [],
   "source": [
    "# now applying feature scaling\n",
    "from sklearn.preprocessing import StandardScaler"
   ]
  },
  {
   "cell_type": "code",
   "execution_count": 13,
   "metadata": {},
   "outputs": [],
   "source": [
    "# calling featurs scaling function \n",
    "std = StandardScaler()"
   ]
  },
  {
   "cell_type": "code",
   "execution_count": 14,
   "metadata": {},
   "outputs": [],
   "source": [
    "# apply on train_x\n",
    "train_xf = std.fit_transform(train_x)"
   ]
  },
  {
   "cell_type": "code",
   "execution_count": 15,
   "metadata": {},
   "outputs": [
    {
     "data": {
      "text/plain": [
       "array([[ 1.49031152e-01,  9.15202878e-02],\n",
       "       [-4.18706569e-01,  2.37905718e+00],\n",
       "       [-1.36493610e+00,  3.62412815e-01],\n",
       "       [-4.02147553e-02,  2.22856133e+00],\n",
       "       [-1.08106724e+00,  3.02214475e-01],\n",
       "       [ 9.06014780e-01, -1.20274401e+00],\n",
       "       [ 1.47375250e+00,  1.02459455e+00],\n",
       "       [ 1.49031152e-01,  3.13219484e-02],\n",
       "       [ 7.16768873e-01, -1.44353737e+00],\n",
       "       [-4.02147553e-02, -1.11244650e+00],\n",
       "       [ 3.38277059e-01, -1.20274401e+00],\n",
       "       [-7.97198384e-01, -1.26294235e+00],\n",
       "       [-7.02575430e-01,  2.72115306e-01],\n",
       "       [-1.27031315e+00, -3.59967257e-01],\n",
       "       [-1.74342792e+00,  4.52710324e-01],\n",
       "       [-8.91821337e-01, -7.81355633e-01],\n",
       "       [-1.27031315e+00, -1.53383487e+00],\n",
       "       [ 7.16768873e-01, -1.32314069e+00],\n",
       "       [ 4.32900012e-01, -1.49273070e-01],\n",
       "       [-2.29460662e-01, -2.69669748e-01],\n",
       "       [-1.74342792e+00, -1.53383487e+00],\n",
       "       [-4.02147553e-02,  1.22277877e-03],\n",
       "       [ 2.04149022e+00,  5.43007833e-01],\n",
       "       [ 8.11391827e-01,  2.72115306e-01],\n",
       "       [-9.86444291e-01,  6.03206172e-01],\n",
       "       [ 2.04149022e+00,  1.80717296e+00],\n",
       "       [ 1.00063773e+00,  1.21619457e-01],\n",
       "       [ 9.06014780e-01, -1.50373570e+00],\n",
       "       [-4.18706569e-01, -8.11454802e-01],\n",
       "       [-7.02575430e-01,  1.11489206e+00],\n",
       "       [ 9.06014780e-01, -6.00760615e-01],\n",
       "       [ 1.00063773e+00,  2.13826383e+00],\n",
       "       [ 3.38277059e-01, -5.40562275e-01],\n",
       "       [ 3.38277059e-01,  3.02214475e-01],\n",
       "       [-1.83805087e+00,  3.62412815e-01],\n",
       "       [ 8.11391827e-01,  3.62412815e-01],\n",
       "       [ 5.27522966e-01,  1.26538790e+00],\n",
       "       [-7.97198384e-01,  3.92511984e-01],\n",
       "       [-2.29460662e-01,  5.43007833e-01],\n",
       "       [ 9.06014780e-01, -8.11454802e-01],\n",
       "       [ 3.38277059e-01, -2.09471409e-01],\n",
       "       [-6.07952477e-01,  1.44598292e+00],\n",
       "       [ 1.75762136e+00, -2.99768918e-01],\n",
       "       [-1.74342792e+00,  1.81817797e-01],\n",
       "       [ 2.43654105e-01, -3.90066427e-01],\n",
       "       [-1.45955906e+00, -4.50264766e-01],\n",
       "       [-1.83805087e+00, -5.40562275e-01],\n",
       "       [ 4.32900012e-01,  1.22277877e-03],\n",
       "       [-6.07952477e-01, -1.56393404e+00],\n",
       "       [-4.18706569e-01, -2.99768918e-01],\n",
       "       [-7.97198384e-01,  3.92511984e-01],\n",
       "       [-2.29460662e-01,  1.51718627e-01],\n",
       "       [ 1.09526069e+00,  1.21619457e-01],\n",
       "       [-4.02147553e-02,  6.93503681e-01],\n",
       "       [ 8.11391827e-01,  5.43007833e-01],\n",
       "       [-2.29460662e-01,  6.14211181e-02],\n",
       "       [-1.55418201e+00, -1.62413238e+00],\n",
       "       [-1.27031315e+00, -4.50264766e-01],\n",
       "       [-2.29460662e-01,  2.72115306e-01],\n",
       "       [ 2.43654105e-01, -3.90066427e-01],\n",
       "       [ 9.06014780e-01,  1.11489206e+00],\n",
       "       [ 2.43654105e-01, -2.99768918e-01],\n",
       "       [-1.08106724e+00, -1.05224816e+00],\n",
       "       [-9.86444291e-01,  5.73107002e-01],\n",
       "       [ 1.85224432e+00, -2.99768918e-01],\n",
       "       [ 5.44081983e-02,  3.02214475e-01],\n",
       "       [ 1.49031152e-01,  1.51718627e-01],\n",
       "       [-7.97198384e-01, -2.69669748e-01],\n",
       "       [ 1.09526069e+00,  5.73107002e-01],\n",
       "       [ 1.37912955e+00,  2.40915635e+00],\n",
       "       [-2.29460662e-01, -3.29868088e-01],\n",
       "       [-1.34837709e-01,  8.74098699e-01],\n",
       "       [ 5.44081983e-02, -1.49273070e-01],\n",
       "       [ 5.44081983e-02,  3.13219484e-02],\n",
       "       [-2.29460662e-01, -9.61950651e-01],\n",
       "       [ 1.37912955e+00, -1.47363653e+00],\n",
       "       [-5.13329523e-01,  1.41588375e+00],\n",
       "       [-1.17569020e+00,  6.03206172e-01],\n",
       "       [ 4.32900012e-01, -1.49273070e-01],\n",
       "       [-8.91821337e-01,  4.22611154e-01],\n",
       "       [ 2.43654105e-01, -1.49273070e-01],\n",
       "       [-4.02147553e-02,  1.51718627e-01],\n",
       "       [-2.29460662e-01,  2.11916966e-01],\n",
       "       [-8.91821337e-01, -3.29868088e-01],\n",
       "       [-8.91821337e-01,  2.72115306e-01],\n",
       "       [ 3.38277059e-01, -3.29868088e-01],\n",
       "       [ 1.94686727e+00,  2.22856133e+00],\n",
       "       [-1.08106724e+00, -1.14254567e+00],\n",
       "       [ 1.00063773e+00,  1.83727213e+00],\n",
       "       [ 4.32900012e-01,  1.51718627e-01],\n",
       "       [ 1.66299841e+00,  1.65667711e+00],\n",
       "       [ 9.06014780e-01,  2.22856133e+00],\n",
       "       [ 3.38277059e-01,  6.14211181e-02],\n",
       "       [ 2.43654105e-01,  1.51718627e-01],\n",
       "       [-6.07952477e-01,  5.73107002e-01],\n",
       "       [-4.02147553e-02, -4.50264766e-01],\n",
       "       [-1.74342792e+00, -1.32314069e+00],\n",
       "       [-3.24083616e-01, -1.35323986e+00],\n",
       "       [ 6.22145920e-01,  2.07806549e+00],\n",
       "       [ 5.44081983e-02, -2.69669748e-01],\n",
       "       [-4.18706569e-01, -1.26294235e+00],\n",
       "       [ 5.44081983e-02, -5.70661445e-01],\n",
       "       [ 1.09526069e+00, -9.31851481e-01],\n",
       "       [ 1.94686727e+00,  9.34297038e-01],\n",
       "       [-4.02147553e-02, -2.39570579e-01],\n",
       "       [ 1.37912955e+00,  1.32558624e+00],\n",
       "       [ 8.11391827e-01, -1.41343820e+00],\n",
       "       [ 2.43654105e-01,  1.51718627e-01],\n",
       "       [-8.91821337e-01,  1.59647877e+00],\n",
       "       [-4.02147553e-02,  2.42016136e-01],\n",
       "       [-5.13329523e-01,  2.40915635e+00],\n",
       "       [-5.13329523e-01, -1.56393404e+00],\n",
       "       [ 1.00063773e+00,  1.92756964e+00],\n",
       "       [ 9.06014780e-01, -1.41343820e+00],\n",
       "       [ 1.18988364e+00, -1.50373570e+00],\n",
       "       [ 2.43654105e-01,  2.42016136e-01],\n",
       "       [ 8.11391827e-01, -1.14254567e+00],\n",
       "       [-1.34837709e-01,  1.51718627e-01],\n",
       "       [-2.29460662e-01,  8.13900360e-01],\n",
       "       [-1.45955906e+00, -1.56393404e+00],\n",
       "       [ 1.66299841e+00, -9.31851481e-01],\n",
       "       [ 1.49031152e-01,  1.92756964e+00],\n",
       "       [-4.02147553e-02,  1.21619457e-01],\n",
       "       [-4.02147553e-02,  2.28875967e+00],\n",
       "       [-2.29460662e-01, -1.41343820e+00],\n",
       "       [ 1.09526069e+00,  2.13826383e+00],\n",
       "       [ 3.38277059e-01, -7.51256463e-01],\n",
       "       [-1.55418201e+00, -5.89755606e-02],\n",
       "       [-1.08106724e+00, -1.20274401e+00],\n",
       "       [ 1.49031152e-01,  2.72115306e-01],\n",
       "       [-1.36493610e+00, -1.19173900e-01],\n",
       "       [ 5.44081983e-02,  1.26538790e+00],\n",
       "       [ 2.04149022e+00,  3.92511984e-01],\n",
       "       [-1.27031315e+00, -1.41343820e+00],\n",
       "       [-6.07952477e-01,  3.13219484e-02],\n",
       "       [-4.02147553e-02,  2.72115306e-01],\n",
       "       [-7.97198384e-01, -8.11454802e-01],\n",
       "       [-1.36493610e+00, -1.26294235e+00],\n",
       "       [ 1.00063773e+00, -1.11244650e+00],\n",
       "       [-4.02147553e-02,  3.02214475e-01],\n",
       "       [-8.91821337e-01, -1.14254567e+00],\n",
       "       [-1.34837709e-01,  1.65667711e+00],\n",
       "       [-1.83805087e+00, -7.81355633e-01],\n",
       "       [-1.34837709e-01, -2.99768918e-01],\n",
       "       [-1.27031315e+00,  5.73107002e-01],\n",
       "       [-6.07952477e-01, -1.19173900e-01],\n",
       "       [ 2.43654105e-01, -3.90066427e-01],\n",
       "       [ 3.38277059e-01,  5.12908663e-01],\n",
       "       [-8.91821337e-01,  4.52710324e-01],\n",
       "       [ 7.16768873e-01, -7.51256463e-01],\n",
       "       [-6.07952477e-01,  1.81817797e-01],\n",
       "       [-7.02575430e-01, -6.30859784e-01],\n",
       "       [ 1.49031152e-01,  2.11916966e-01],\n",
       "       [ 1.28450659e+00,  2.28875967e+00],\n",
       "       [ 9.06014780e-01, -1.35323986e+00],\n",
       "       [-9.86444291e-01, -3.59967257e-01],\n",
       "       [ 5.44081983e-02, -6.00760615e-01],\n",
       "       [ 3.38277059e-01,  2.72115306e-01],\n",
       "       [-2.29460662e-01, -3.59967257e-01],\n",
       "       [-1.45955906e+00, -2.09471409e-01],\n",
       "       [ 1.49031152e-01,  3.13219484e-02],\n",
       "       [-1.74342792e+00, -1.47363653e+00],\n",
       "       [-1.36493610e+00, -1.50373570e+00],\n",
       "       [-2.29460662e-01, -1.35323986e+00],\n",
       "       [-1.83805087e+00, -5.89755606e-02],\n",
       "       [-7.02575430e-01,  1.95766881e+00],\n",
       "       [ 1.49031152e-01,  1.56637960e+00],\n",
       "       [ 6.22145920e-01, -9.31851481e-01],\n",
       "       [ 1.18988364e+00, -7.81355633e-01],\n",
       "       [ 5.27522966e-01,  1.77707379e+00],\n",
       "       [ 1.85224432e+00,  1.21619457e-01],\n",
       "       [-1.45955906e+00,  3.32313645e-01],\n",
       "       [-9.86444291e-01, -1.50373570e+00],\n",
       "       [ 2.43654105e-01, -6.91058124e-01],\n",
       "       [ 1.18988364e+00, -1.02214899e+00],\n",
       "       [ 4.32900012e-01,  2.37905718e+00],\n",
       "       [-7.02575430e-01, -2.39570579e-01],\n",
       "       [-5.13329523e-01,  1.50618126e+00],\n",
       "       [ 3.38277059e-01,  6.14211181e-02],\n",
       "       [ 7.16768873e-01, -1.14254567e+00],\n",
       "       [-1.83805087e+00,  4.82809493e-01],\n",
       "       [-4.18706569e-01, -1.17264484e+00],\n",
       "       [-8.91821337e-01,  5.12908663e-01],\n",
       "       [-7.97198384e-01,  1.51718627e-01],\n",
       "       [-1.36493610e+00, -2.09471409e-01],\n",
       "       [-2.29460662e-01, -1.49273070e-01],\n",
       "       [-4.02147553e-02,  2.11916966e-01],\n",
       "       [ 4.32900012e-01, -5.10463106e-01],\n",
       "       [-5.13329523e-01,  4.82809493e-01],\n",
       "       [ 9.06014780e-01,  1.05469372e+00],\n",
       "       [-3.24083616e-01, -8.11454802e-01],\n",
       "       [-9.86444291e-01, -3.59967257e-01],\n",
       "       [-7.97198384e-01,  2.34895801e+00],\n",
       "       [ 2.13611318e+00, -7.21157293e-01],\n",
       "       [-2.29460662e-01, -6.91058124e-01],\n",
       "       [ 8.11391827e-01,  1.21619457e-01],\n",
       "       [ 3.38277059e-01,  3.13219484e-02],\n",
       "       [ 1.47375250e+00,  3.62412815e-01],\n",
       "       [-1.64880497e+00, -1.02214899e+00],\n",
       "       [-4.02147553e-02, -3.90066427e-01],\n",
       "       [ 1.75762136e+00,  1.89747047e+00],\n",
       "       [-4.02147553e-02,  3.13219484e-02],\n",
       "       [-6.07952477e-01, -5.89755606e-02],\n",
       "       [ 1.94686727e+00,  7.53702020e-01],\n",
       "       [-5.13329523e-01,  9.04197869e-01],\n",
       "       [-1.27031315e+00, -1.14254567e+00],\n",
       "       [ 2.43654105e-01, -2.69669748e-01],\n",
       "       [ 1.49031152e-01,  7.83801190e-01],\n",
       "       [-4.18706569e-01, -2.88763909e-02],\n",
       "       [ 1.85224432e+00, -1.11244650e+00],\n",
       "       [-1.55418201e+00,  6.14211181e-02],\n",
       "       [-2.29460662e-01,  3.13219484e-02],\n",
       "       [-7.02575430e-01,  3.02214475e-01],\n",
       "       [-2.29460662e-01, -7.81355633e-01],\n",
       "       [ 1.47375250e+00, -1.08234733e+00],\n",
       "       [-1.34837709e-01, -4.80363936e-01],\n",
       "       [-7.02575430e-01,  1.38578458e+00],\n",
       "       [ 4.32900012e-01,  2.72115306e-01],\n",
       "       [-1.27031315e+00,  4.22611154e-01],\n",
       "       [-1.34837709e-01,  1.68677628e+00],\n",
       "       [ 2.13611318e+00,  3.92511984e-01],\n",
       "       [ 7.16768873e-01,  2.72115306e-01],\n",
       "       [ 1.28450659e+00,  1.92756964e+00],\n",
       "       [-7.02575430e-01, -1.59403321e+00],\n",
       "       [-2.29460662e-01,  6.33305342e-01],\n",
       "       [-4.02147553e-02, -5.10463106e-01],\n",
       "       [-1.64880497e+00,  3.62412815e-01],\n",
       "       [ 2.43654105e-01,  3.13219484e-02],\n",
       "       [ 1.56837546e+00,  1.02459455e+00],\n",
       "       [-2.29460662e-01, -2.99768918e-01],\n",
       "       [ 2.13611318e+00,  1.14499123e+00],\n",
       "       [-1.08106724e+00, -8.11454802e-01],\n",
       "       [ 5.44081983e-02,  1.29548707e+00],\n",
       "       [-1.08106724e+00, -1.65423155e+00],\n",
       "       [ 2.13611318e+00,  9.64396208e-01],\n",
       "       [ 2.13611318e+00, -8.41553972e-01],\n",
       "       [-3.24083616e-01, -8.11454802e-01],\n",
       "       [ 1.09526069e+00,  5.43007833e-01],\n",
       "       [-1.36493610e+00, -6.60958954e-01],\n",
       "       [ 1.37912955e+00,  6.03206172e-01],\n",
       "       [ 1.56837546e+00,  1.22277877e-03],\n",
       "       [ 5.44081983e-02,  3.13219484e-02],\n",
       "       [ 1.00063773e+00, -1.11244650e+00],\n",
       "       [ 1.94686727e+00, -6.91058124e-01],\n",
       "       [ 3.38277059e-01, -2.99768918e-01],\n",
       "       [ 4.32900012e-01,  1.14499123e+00],\n",
       "       [-2.29460662e-01,  6.14211181e-02],\n",
       "       [-7.02575430e-01,  5.73107002e-01],\n",
       "       [-1.17569020e+00,  2.72115306e-01],\n",
       "       [-9.86444291e-01,  5.43007833e-01],\n",
       "       [-1.17569020e+00, -1.44353737e+00],\n",
       "       [-9.86444291e-01, -4.80363936e-01],\n",
       "       [-1.34837709e-01, -2.09471409e-01],\n",
       "       [-5.13329523e-01,  1.95766881e+00],\n",
       "       [-1.45955906e+00, -1.29304152e+00],\n",
       "       [ 5.44081983e-02, -6.00760615e-01],\n",
       "       [-1.34837709e-01, -6.00760615e-01],\n",
       "       [ 4.32900012e-01, -4.80363936e-01],\n",
       "       [ 4.32900012e-01, -1.79372239e-01],\n",
       "       [-7.97198384e-01, -8.11454802e-01],\n",
       "       [-4.02147553e-02,  3.02214475e-01],\n",
       "       [-1.64880497e+00, -6.30859784e-01],\n",
       "       [ 2.04149022e+00,  1.81817797e-01],\n",
       "       [ 3.38277059e-01,  6.14211181e-02],\n",
       "       [-1.74342792e+00, -1.35323986e+00],\n",
       "       [ 5.27522966e-01,  1.89747047e+00],\n",
       "       [ 4.32900012e-01,  3.02214475e-01],\n",
       "       [-2.29460662e-01, -6.00760615e-01],\n",
       "       [-8.91821337e-01, -3.29868088e-01],\n",
       "       [-9.86444291e-01,  4.22611154e-01],\n",
       "       [-9.86444291e-01, -1.17264484e+00],\n",
       "       [-1.17569020e+00,  3.02214475e-01],\n",
       "       [-8.91821337e-01, -4.50264766e-01],\n",
       "       [ 1.00063773e+00,  2.04796632e+00],\n",
       "       [ 5.44081983e-02, -2.69669748e-01],\n",
       "       [-1.08106724e+00,  1.44598292e+00],\n",
       "       [ 1.94686727e+00, -1.41343820e+00],\n",
       "       [ 4.32900012e-01,  3.02214475e-01],\n",
       "       [ 1.47375250e+00,  2.19846216e+00],\n",
       "       [ 1.49031152e-01, -8.41553972e-01],\n",
       "       [-2.29460662e-01, -1.50373570e+00],\n",
       "       [ 1.28450659e+00, -1.41343820e+00],\n",
       "       [-1.34837709e-01,  2.22856133e+00],\n",
       "       [ 1.47375250e+00,  6.14211181e-02],\n",
       "       [ 8.11391827e-01, -3.29868088e-01],\n",
       "       [-2.29460662e-01,  1.51718627e-01],\n",
       "       [ 2.13611318e+00, -1.08234733e+00],\n",
       "       [-1.64880497e+00,  4.82809493e-01],\n",
       "       [ 5.44081983e-02, -3.29868088e-01],\n",
       "       [ 9.06014780e-01, -1.08234733e+00],\n",
       "       [ 1.56837546e+00, -1.32314069e+00],\n",
       "       [-2.29460662e-01, -4.50264766e-01],\n",
       "       [-1.17569020e+00, -1.11244650e+00],\n",
       "       [-4.02147553e-02,  6.14211181e-02],\n",
       "       [ 1.66299841e+00,  1.80717296e+00],\n",
       "       [-3.24083616e-01,  6.14211181e-02],\n",
       "       [ 1.49031152e-01, -2.69669748e-01],\n",
       "       [ 9.06014780e-01, -6.30859784e-01],\n",
       "       [-2.29460662e-01,  9.15202878e-02],\n",
       "       [ 1.85224432e+00, -1.32314069e+00],\n",
       "       [-1.64880497e+00,  1.21619457e-01],\n",
       "       [-1.64880497e+00,  3.62412815e-01],\n",
       "       [ 2.04149022e+00,  2.19846216e+00],\n",
       "       [-1.08106724e+00, -5.40562275e-01],\n",
       "       [ 1.75762136e+00,  1.02459455e+00],\n",
       "       [ 1.00063773e+00, -1.05224816e+00],\n",
       "       [ 2.43654105e-01, -3.29868088e-01],\n",
       "       [-6.07952477e-01, -3.59967257e-01],\n",
       "       [ 1.37912955e+00, -9.61950651e-01],\n",
       "       [-2.29460662e-01, -1.29304152e+00],\n",
       "       [ 1.00063773e+00,  1.47608209e+00],\n",
       "       [-8.91821337e-01, -9.92049820e-01],\n",
       "       [-4.18706569e-01, -8.71653142e-01],\n",
       "       [-2.29460662e-01, -9.31851481e-01],\n",
       "       [-9.86444291e-01,  7.83801190e-01],\n",
       "       [-1.08106724e+00,  4.22611154e-01],\n",
       "       [-1.08106724e+00, -1.59403321e+00],\n",
       "       [ 4.32900012e-01,  9.15202878e-02],\n",
       "       [-6.07952477e-01, -1.08234733e+00],\n",
       "       [ 2.43654105e-01,  1.11489206e+00]])"
      ]
     },
     "execution_count": 15,
     "metadata": {},
     "output_type": "execute_result"
    }
   ],
   "source": [
    "train_xf"
   ]
  },
  {
   "cell_type": "code",
   "execution_count": 16,
   "metadata": {},
   "outputs": [],
   "source": [
    "# now applying on  test_x\n",
    "test_xf = std.transform(test_x)# as it is already fitted in training it is not neaded to fit during test"
   ]
  },
  {
   "cell_type": "code",
   "execution_count": 17,
   "metadata": {},
   "outputs": [],
   "source": [
    "# calling knn\n",
    "from sklearn.neighbors import KNeighborsClassifier"
   ]
  },
  {
   "cell_type": "code",
   "execution_count": 18,
   "metadata": {},
   "outputs": [],
   "source": [
    "kclf = KNeighborsClassifier()"
   ]
  },
  {
   "cell_type": "code",
   "execution_count": 19,
   "metadata": {},
   "outputs": [],
   "source": [
    "trained_knn = kclf.fit(train_xf,train_y)"
   ]
  },
  {
   "cell_type": "code",
   "execution_count": 20,
   "metadata": {},
   "outputs": [],
   "source": [
    "# predicting output\n",
    "output = trained_knn.predict(test_xf)"
   ]
  },
  {
   "cell_type": "code",
   "execution_count": 21,
   "metadata": {},
   "outputs": [],
   "source": [
    "# to check accuracy score\n",
    "from sklearn.metrics import accuracy_score\n"
   ]
  },
  {
   "cell_type": "code",
   "execution_count": 22,
   "metadata": {},
   "outputs": [
    {
     "data": {
      "text/plain": [
       "0.9"
      ]
     },
     "execution_count": 22,
     "metadata": {},
     "output_type": "execute_result"
    }
   ],
   "source": [
    "accuracy_score(test_y,output)"
   ]
  },
  {
   "cell_type": "code",
   "execution_count": 23,
   "metadata": {},
   "outputs": [],
   "source": [
    "# confusion matrix\n",
    "from sklearn.metrics import confusion_matrix"
   ]
  },
  {
   "cell_type": "code",
   "execution_count": 24,
   "metadata": {},
   "outputs": [
    {
     "data": {
      "text/plain": [
       "array([[39,  7],\n",
       "       [ 1, 33]])"
      ]
     },
     "execution_count": 24,
     "metadata": {},
     "output_type": "execute_result"
    }
   ],
   "source": [
    "confusion_matrix(test_y,output)"
   ]
  },
  {
   "cell_type": "code",
   "execution_count": null,
   "metadata": {},
   "outputs": [],
   "source": []
  }
 ],
 "metadata": {
  "kernelspec": {
   "display_name": "Python 3",
   "language": "python",
   "name": "python3"
  },
  "language_info": {
   "codemirror_mode": {
    "name": "ipython",
    "version": 3
   },
   "file_extension": ".py",
   "mimetype": "text/x-python",
   "name": "python",
   "nbconvert_exporter": "python",
   "pygments_lexer": "ipython3",
   "version": "3.6.8"
  }
 },
 "nbformat": 4,
 "nbformat_minor": 2
}
