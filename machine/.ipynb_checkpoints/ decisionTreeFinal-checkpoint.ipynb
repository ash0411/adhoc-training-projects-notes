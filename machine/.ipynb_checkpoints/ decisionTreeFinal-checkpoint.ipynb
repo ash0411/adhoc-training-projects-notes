{
 "cells": [
  {
   "cell_type": "markdown",
   "metadata": {},
   "source": [
    "pandas convert all types of data into a single category"
   ]
  },
  {
   "cell_type": "markdown",
   "metadata": {},
   "source": [
    "Decision tree works on id3\n",
    "id3 depends on 3 index<br>\n",
    "1. gini index( it decides what comes on top) , entropy( it can also be used in place of gini index) \n",
    "2. attribute gain/information gain(it tells which node you will further divide, which has more gain will not divide) \n",
    "3."
   ]
  },
  {
   "cell_type": "markdown",
   "metadata": {},
   "source": [
    "entropy is always taken out of label/class, and we take out information gain of attribute/features\n",
    "formula of igain and entropy is equivalent. <br>\n",
    "gain = entropy - igain and whose gain is bigger is calculated first<br>"
   ]
  },
  {
   "cell_type": "markdown",
   "metadata": {},
   "source": [
    "now the column that you selected is taked constant and once again the above process is calculated<br>"
   ]
  },
  {
   "cell_type": "code",
   "execution_count": 15,
   "metadata": {},
   "outputs": [],
   "source": [
    "# taking datasets\n",
    "from sklearn.datasets import load_iris# loading iris data\n",
    "import matplotlib.pyplot as plt# giving visualisation using amtplotlib\n",
    "from sklearn.tree import DecisionTreeClassifier# calling decision tree classifier\n",
    "from sklearn.model_selection import train_test_split# spliting data into test and train\n",
    "from sklearn.metrics import accuracy_score# for taking out the accuracy of data"
   ]
  },
  {
   "cell_type": "code",
   "execution_count": 5,
   "metadata": {},
   "outputs": [],
   "source": [
    "iris_data = load_iris() "
   ]
  },
  {
   "cell_type": "code",
   "execution_count": 6,
   "metadata": {},
   "outputs": [
    {
     "data": {
      "text/plain": [
       "['DESCR', 'data', 'feature_names', 'filename', 'target', 'target_names']"
      ]
     },
     "execution_count": 6,
     "metadata": {},
     "output_type": "execute_result"
    }
   ],
   "source": [
    "dir(iris_data)# similiar to pd.info"
   ]
  },
  {
   "cell_type": "code",
   "execution_count": 9,
   "metadata": {},
   "outputs": [],
   "source": [
    "features = iris_data.data# here all attributes of iris flower"
   ]
  },
  {
   "cell_type": "code",
   "execution_count": 12,
   "metadata": {},
   "outputs": [
    {
     "data": {
      "text/plain": [
       "['sepal length (cm)',\n",
       " 'sepal width (cm)',\n",
       " 'petal length (cm)',\n",
       " 'petal width (cm)']"
      ]
     },
     "execution_count": 12,
     "metadata": {},
     "output_type": "execute_result"
    }
   ],
   "source": [
    "# if checking attributes names\n",
    "iris_data.feature_names"
   ]
  },
  {
   "cell_type": "code",
   "execution_count": 14,
   "metadata": {},
   "outputs": [],
   "source": [
    "labels = iris_data.target#here are the output of the attributes"
   ]
  },
  {
   "cell_type": "code",
   "execution_count": 21,
   "metadata": {},
   "outputs": [
    {
     "data": {
      "image/png": "[encoded data removed]",
      "text/plain": [
       "<Figure size 432x288 with 1 Axes>"
      ]
     },
     "metadata": {
      "needs_background": "light"
     },
     "output_type": "display_data"
    }
   ],
   "source": [
    "# incase you want data visual\n",
    "plt.xlabel('length')\n",
    "plt.ylabel('width')\n",
    "plt.scatter(features[:,0],features[:,1],label = \"sepal info\",marker = 'x')\n",
    "plt.scatter(features[:,2],features[:,3],label = 'petal info',marker= '*')\n",
    "plt.legend()\n",
    "plt.show()"
   ]
  },
  {
   "cell_type": "code",
   "execution_count": 24,
   "metadata": {},
   "outputs": [],
   "source": [
    "#data_split\n",
    "train_d,test_d,train_l,test_l = train_test_split(features,labels)\n",
    "# the defautt test size is 25%\n",
    "# first two will be data ,second two section will be label"
   ]
  },
  {
   "cell_type": "code",
   "execution_count": 25,
   "metadata": {},
   "outputs": [],
   "source": [
    "# now calling decision tree classifier\n",
    "g_clf=DecisionTreeClassifier(criterion=\"gini\")\n",
    "# with gini index"
   ]
  },
  {
   "cell_type": "code",
   "execution_count": 26,
   "metadata": {},
   "outputs": [],
   "source": [
    "# calling decision tree classifier with entropy\n",
    "e_clf = DecisionTreeClassifier(criterion=\"entropy\")"
   ]
  },
  {
   "cell_type": "code",
   "execution_count": 27,
   "metadata": {},
   "outputs": [],
   "source": [
    "# now training data\n",
    "g_trained = g_clf.fit(train_d,train_l)\n",
    "e_trained = e_clf.fit(train_d,train_l)"
   ]
  },
  {
   "cell_type": "code",
   "execution_count": 28,
   "metadata": {},
   "outputs": [],
   "source": [
    "# getting prediction using gini and entropy\n",
    "g_output = g_trained.predict(test_d)\n",
    "e_output = e_trained.predict(test_d)"
   ]
  },
  {
   "cell_type": "code",
   "execution_count": 35,
   "metadata": {},
   "outputs": [],
   "source": [
    "# checking there accuracy by gini and entropy\n",
    "g_score=accuracy_score(test_l,g_output)\n",
    "e_score=accuracy_score(test_l,e_output)"
   ]
  },
  {
   "cell_type": "code",
   "execution_count": 36,
   "metadata": {},
   "outputs": [
    {
     "name": "stdout",
     "output_type": "stream",
     "text": [
      "0.9473684210526315\n",
      "0.9473684210526315\n"
     ]
    }
   ],
   "source": [
    "print(g_score)\n",
    "print(e_score)"
   ]
  },
  {
   "cell_type": "code",
   "execution_count": 42,
   "metadata": {},
   "outputs": [
    {
     "data": {
      "image/png": "[encoded data removed]",
      "text/plain": [
       "<Figure size 432x288 with 1 Axes>"
      ]
     },
     "metadata": {},
     "output_type": "display_data"
    }
   ],
   "source": [
    "plt.pie([g_score,e_score],labels = ['gini','entropy'],shadow = True,autopct ='%1.1F%%',explode=(0,0.2))\n",
    "plt.show()"
   ]
  },
  {
   "cell_type": "code",
   "execution_count": null,
   "metadata": {},
   "outputs": [],
   "source": []
  }
 ],
 "metadata": {
  "kernelspec": {
   "display_name": "Python 3",
   "language": "python",
   "name": "python3"
  },
  "language_info": {
   "codemirror_mode": {
    "name": "ipython",
    "version": 3
   },
   "file_extension": ".py",
   "mimetype": "text/x-python",
   "name": "python",
   "nbconvert_exporter": "python",
   "pygments_lexer": "ipython3",
   "version": "3.6.8"
  }
 },
 "nbformat": 4,
 "nbformat_minor": 2
}
