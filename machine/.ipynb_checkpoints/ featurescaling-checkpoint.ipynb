{
 "cells": [
  {
   "cell_type": "code",
   "execution_count": 3,
   "metadata": {},
   "outputs": [],
   "source": [
    "# now working with knn and external data\n",
    "import pandas as pd\n",
    "import matplotlib.pyplot as plt\n",
    "# rather than matplotlib we can also use seaborn\n",
    "import seaborn as sb"
   ]
  },
  {
   "cell_type": "code",
   "execution_count": 5,
   "metadata": {},
   "outputs": [],
   "source": [
    "df =pd.read_csv(\"datasets/social.csv\")"
   ]
  },
  {
   "cell_type": "code",
   "execution_count": 7,
   "metadata": {},
   "outputs": [
    {
     "data": {
      "text/html": [
       "<div>\n",
       "<style scoped>\n",
       "    .dataframe tbody tr th:only-of-type {\n",
       "        vertical-align: middle;\n",
       "    }\n",
       "\n",
       "    .dataframe tbody tr th {\n",
       "        vertical-align: top;\n",
       "    }\n",
       "\n",
       "    .dataframe thead th {\n",
       "        text-align: right;\n",
       "    }\n",
       "</style>\n",
       "<table border=\"1\" class=\"dataframe\">\n",
       "  <thead>\n",
       "    <tr style=\"text-align: right;\">\n",
       "      <th></th>\n",
       "      <th>User ID</th>\n",
       "      <th>Gender</th>\n",
       "      <th>Age</th>\n",
       "      <th>EstimatedSalary</th>\n",
       "      <th>Purchased</th>\n",
       "    </tr>\n",
       "  </thead>\n",
       "  <tbody>\n",
       "    <tr>\n",
       "      <td>0</td>\n",
       "      <td>15624510</td>\n",
       "      <td>Male</td>\n",
       "      <td>19</td>\n",
       "      <td>19000</td>\n",
       "      <td>0</td>\n",
       "    </tr>\n",
       "    <tr>\n",
       "      <td>1</td>\n",
       "      <td>15810944</td>\n",
       "      <td>Male</td>\n",
       "      <td>35</td>\n",
       "      <td>20000</td>\n",
       "      <td>0</td>\n",
       "    </tr>\n",
       "    <tr>\n",
       "      <td>2</td>\n",
       "      <td>15668575</td>\n",
       "      <td>Female</td>\n",
       "      <td>26</td>\n",
       "      <td>43000</td>\n",
       "      <td>0</td>\n",
       "    </tr>\n",
       "    <tr>\n",
       "      <td>3</td>\n",
       "      <td>15603246</td>\n",
       "      <td>Female</td>\n",
       "      <td>27</td>\n",
       "      <td>57000</td>\n",
       "      <td>0</td>\n",
       "    </tr>\n",
       "    <tr>\n",
       "      <td>4</td>\n",
       "      <td>15804002</td>\n",
       "      <td>Male</td>\n",
       "      <td>19</td>\n",
       "      <td>76000</td>\n",
       "      <td>0</td>\n",
       "    </tr>\n",
       "  </tbody>\n",
       "</table>\n",
       "</div>"
      ],
      "text/plain": [
       "    User ID  Gender  Age  EstimatedSalary  Purchased\n",
       "0  15624510    Male   19            19000          0\n",
       "1  15810944    Male   35            20000          0\n",
       "2  15668575  Female   26            43000          0\n",
       "3  15603246  Female   27            57000          0\n",
       "4  15804002    Male   19            76000          0"
      ]
     },
     "execution_count": 7,
     "metadata": {},
     "output_type": "execute_result"
    }
   ],
   "source": [
    "# printing top5 values in a row\n",
    "df.head()"
   ]
  },
  {
   "cell_type": "code",
   "execution_count": 9,
   "metadata": {},
   "outputs": [
    {
     "name": "stdout",
     "output_type": "stream",
     "text": [
      "<class 'pandas.core.frame.DataFrame'>\n",
      "RangeIndex: 400 entries, 0 to 399\n",
      "Data columns (total 5 columns):\n",
      "User ID            400 non-null int64\n",
      "Gender             400 non-null object\n",
      "Age                400 non-null int64\n",
      "EstimatedSalary    400 non-null int64\n",
      "Purchased          400 non-null int64\n",
      "dtypes: int64(4), object(1)\n",
      "memory usage: 15.8+ KB\n"
     ]
    }
   ],
   "source": [
    "df.info()"
   ]
  },
  {
   "cell_type": "code",
   "execution_count": 15,
   "metadata": {},
   "outputs": [
    {
     "data": {
      "text/plain": [
       "<matplotlib.axes._subplots.AxesSubplot at 0x7f013501dc18>"
      ]
     },
     "execution_count": 15,
     "metadata": {},
     "output_type": "execute_result"
    },
    {
     "data": {
      "image/png": "[encoded data removed]",
      "text/plain": [
       "<Figure size 432x288 with 1 Axes>"
      ]
     },
     "metadata": {
      "needs_background": "light"
     },
     "output_type": "display_data"
    }
   ],
   "source": [
    "sb.countplot(df['Gender'])# to plot a graph to compare the number of males and females"
   ]
  },
  {
   "cell_type": "code",
   "execution_count": 16,
   "metadata": {},
   "outputs": [
    {
     "data": {
      "text/html": [
       "<div>\n",
       "<style scoped>\n",
       "    .dataframe tbody tr th:only-of-type {\n",
       "        vertical-align: middle;\n",
       "    }\n",
       "\n",
       "    .dataframe tbody tr th {\n",
       "        vertical-align: top;\n",
       "    }\n",
       "\n",
       "    .dataframe thead th {\n",
       "        text-align: right;\n",
       "    }\n",
       "</style>\n",
       "<table border=\"1\" class=\"dataframe\">\n",
       "  <thead>\n",
       "    <tr style=\"text-align: right;\">\n",
       "      <th></th>\n",
       "      <th>User ID</th>\n",
       "      <th>Gender</th>\n",
       "      <th>Age</th>\n",
       "      <th>EstimatedSalary</th>\n",
       "      <th>Purchased</th>\n",
       "    </tr>\n",
       "  </thead>\n",
       "  <tbody>\n",
       "    <tr>\n",
       "      <td>0</td>\n",
       "      <td>15624510</td>\n",
       "      <td>Male</td>\n",
       "      <td>19</td>\n",
       "      <td>19000</td>\n",
       "      <td>0</td>\n",
       "    </tr>\n",
       "    <tr>\n",
       "      <td>1</td>\n",
       "      <td>15810944</td>\n",
       "      <td>Male</td>\n",
       "      <td>35</td>\n",
       "      <td>20000</td>\n",
       "      <td>0</td>\n",
       "    </tr>\n",
       "    <tr>\n",
       "      <td>2</td>\n",
       "      <td>15668575</td>\n",
       "      <td>Female</td>\n",
       "      <td>26</td>\n",
       "      <td>43000</td>\n",
       "      <td>0</td>\n",
       "    </tr>\n",
       "    <tr>\n",
       "      <td>3</td>\n",
       "      <td>15603246</td>\n",
       "      <td>Female</td>\n",
       "      <td>27</td>\n",
       "      <td>57000</td>\n",
       "      <td>0</td>\n",
       "    </tr>\n",
       "    <tr>\n",
       "      <td>4</td>\n",
       "      <td>15804002</td>\n",
       "      <td>Male</td>\n",
       "      <td>19</td>\n",
       "      <td>76000</td>\n",
       "      <td>0</td>\n",
       "    </tr>\n",
       "    <tr>\n",
       "      <td>...</td>\n",
       "      <td>...</td>\n",
       "      <td>...</td>\n",
       "      <td>...</td>\n",
       "      <td>...</td>\n",
       "      <td>...</td>\n",
       "    </tr>\n",
       "    <tr>\n",
       "      <td>395</td>\n",
       "      <td>15691863</td>\n",
       "      <td>Female</td>\n",
       "      <td>46</td>\n",
       "      <td>41000</td>\n",
       "      <td>1</td>\n",
       "    </tr>\n",
       "    <tr>\n",
       "      <td>396</td>\n",
       "      <td>15706071</td>\n",
       "      <td>Male</td>\n",
       "      <td>51</td>\n",
       "      <td>23000</td>\n",
       "      <td>1</td>\n",
       "    </tr>\n",
       "    <tr>\n",
       "      <td>397</td>\n",
       "      <td>15654296</td>\n",
       "      <td>Female</td>\n",
       "      <td>50</td>\n",
       "      <td>20000</td>\n",
       "      <td>1</td>\n",
       "    </tr>\n",
       "    <tr>\n",
       "      <td>398</td>\n",
       "      <td>15755018</td>\n",
       "      <td>Male</td>\n",
       "      <td>36</td>\n",
       "      <td>33000</td>\n",
       "      <td>0</td>\n",
       "    </tr>\n",
       "    <tr>\n",
       "      <td>399</td>\n",
       "      <td>15594041</td>\n",
       "      <td>Female</td>\n",
       "      <td>49</td>\n",
       "      <td>36000</td>\n",
       "      <td>1</td>\n",
       "    </tr>\n",
       "  </tbody>\n",
       "</table>\n",
       "<p>400 rows × 5 columns</p>\n",
       "</div>"
      ],
      "text/plain": [
       "      User ID  Gender  Age  EstimatedSalary  Purchased\n",
       "0    15624510    Male   19            19000          0\n",
       "1    15810944    Male   35            20000          0\n",
       "2    15668575  Female   26            43000          0\n",
       "3    15603246  Female   27            57000          0\n",
       "4    15804002    Male   19            76000          0\n",
       "..        ...     ...  ...              ...        ...\n",
       "395  15691863  Female   46            41000          1\n",
       "396  15706071    Male   51            23000          1\n",
       "397  15654296  Female   50            20000          1\n",
       "398  15755018    Male   36            33000          0\n",
       "399  15594041  Female   49            36000          1\n",
       "\n",
       "[400 rows x 5 columns]"
      ]
     },
     "execution_count": 16,
     "metadata": {},
     "output_type": "execute_result"
    }
   ],
   "source": [
    "# data analysis\n",
    "df"
   ]
  },
  {
   "cell_type": "code",
   "execution_count": 20,
   "metadata": {},
   "outputs": [],
   "source": [
    "features = df.iloc[:,2:4].values"
   ]
  },
  {
   "cell_type": "code",
   "execution_count": 25,
   "metadata": {},
   "outputs": [],
   "source": [
    "labels = df.iloc[:,-1].values"
   ]
  },
  {
   "cell_type": "code",
   "execution_count": 26,
   "metadata": {},
   "outputs": [
    {
     "data": {
      "text/plain": [
       "array([0, 0, 0, 0, 0, 0, 0, 1, 0, 0, 0, 0, 0, 0, 0, 0, 1, 1, 1, 1, 1, 1,\n",
       "       1, 1, 1, 1, 1, 1, 0, 0, 0, 1, 0, 0, 0, 0, 0, 0, 0, 0, 0, 0, 0, 0,\n",
       "       0, 0, 0, 0, 1, 0, 0, 0, 0, 0, 0, 0, 0, 0, 0, 0, 0, 0, 0, 1, 0, 0,\n",
       "       0, 0, 0, 0, 0, 0, 0, 0, 0, 1, 0, 0, 0, 0, 0, 0, 0, 0, 0, 1, 0, 0,\n",
       "       0, 0, 0, 0, 0, 0, 0, 0, 0, 1, 0, 0, 0, 0, 0, 1, 0, 0, 0, 0, 0, 0,\n",
       "       0, 0, 0, 0, 0, 0, 0, 0, 0, 0, 0, 0, 0, 0, 0, 0, 0, 0, 0, 0, 0, 0,\n",
       "       0, 0, 0, 0, 0, 1, 0, 0, 0, 0, 0, 0, 0, 0, 1, 0, 0, 0, 0, 0, 0, 0,\n",
       "       0, 0, 0, 0, 0, 1, 1, 0, 0, 0, 0, 0, 0, 0, 1, 0, 0, 0, 0, 0, 0, 0,\n",
       "       0, 0, 0, 0, 0, 0, 1, 0, 0, 0, 0, 0, 0, 0, 0, 0, 0, 0, 0, 0, 0, 0,\n",
       "       0, 0, 0, 0, 1, 0, 1, 0, 1, 0, 1, 0, 1, 1, 0, 0, 0, 1, 0, 0, 0, 1,\n",
       "       0, 1, 1, 1, 0, 0, 1, 1, 0, 1, 1, 0, 1, 1, 0, 1, 0, 0, 0, 1, 1, 0,\n",
       "       1, 1, 0, 1, 0, 1, 0, 1, 0, 0, 1, 1, 0, 1, 0, 0, 1, 1, 0, 1, 1, 0,\n",
       "       1, 1, 0, 0, 1, 0, 0, 1, 1, 1, 1, 1, 0, 1, 1, 1, 1, 0, 1, 1, 0, 1,\n",
       "       0, 1, 0, 1, 1, 1, 1, 0, 0, 0, 1, 1, 0, 1, 1, 1, 1, 1, 0, 0, 0, 1,\n",
       "       1, 0, 0, 1, 0, 1, 0, 1, 1, 0, 1, 0, 1, 1, 0, 1, 1, 0, 0, 0, 1, 1,\n",
       "       0, 1, 0, 0, 1, 0, 1, 0, 0, 1, 1, 0, 0, 1, 1, 0, 1, 1, 0, 0, 1, 0,\n",
       "       1, 0, 1, 1, 1, 0, 1, 0, 1, 1, 1, 0, 1, 1, 1, 1, 0, 1, 1, 1, 0, 1,\n",
       "       0, 1, 0, 0, 1, 1, 0, 1, 1, 1, 1, 1, 1, 0, 1, 1, 1, 1, 1, 1, 0, 1,\n",
       "       1, 1, 0, 1])"
      ]
     },
     "execution_count": 26,
     "metadata": {},
     "output_type": "execute_result"
    }
   ],
   "source": [
    "labels"
   ]
  },
  {
   "cell_type": "code",
   "execution_count": 27,
   "metadata": {},
   "outputs": [],
   "source": [
    "# now spliting data \n",
    "from sklearn.model_selection import train_test_split"
   ]
  },
  {
   "cell_type": "code",
   "execution_count": 28,
   "metadata": {},
   "outputs": [],
   "source": [
    "train_x,test_x,train_y,test_y = train_test_split(features,labels,test_size =0.2)"
   ]
  },
  {
   "cell_type": "code",
   "execution_count": 29,
   "metadata": {},
   "outputs": [],
   "source": [
    "# now applying feature scaling\n",
    "from sklearn.preprocessing import StandardScaler"
   ]
  },
  {
   "cell_type": "code",
   "execution_count": 31,
   "metadata": {},
   "outputs": [],
   "source": [
    "# calling featurs scaling function \n",
    "std = StandardScaler()"
   ]
  },
  {
   "cell_type": "code",
   "execution_count": 32,
   "metadata": {},
   "outputs": [],
   "source": [
    "# apply on train_x\n",
    "train_xf = ￼￼Choose FilesUpload ￼New Toggle Dropdown ￼\n",
    "￼￼0￼checkbox Toggle Dropdown \n",
    "adhocmachine\n",
    "￼ Name  ￼ Last Modified  ￼ File size \n",
    "..\n",
    "seconds ago \n",
    "￼datasets\n",
    "6 hours ago \n",
    "￼ assignment29dec.ipynbstd.fit_transform(train_x)"
   ]
  },
  {
   "cell_type": "code",
   "execution_count": 33,
   "metadata": {},
   "outputs": [
    {
     "data": {
      "text/plain": [
       "array([[-0.37727051, -1.34043985],\n",
       "       [-0.09118861, -0.41143111],\n",
       "       [-0.66335242, -1.63075508],\n",
       "       [-1.4262375 , -0.15014741],\n",
       "       [ 0.38561457, -0.49852568],\n",
       "       [ 1.8160241 , -1.10818767],\n",
       "       [-0.66335242,  1.35949179],\n",
       "       [ 1.24386029,  1.82399616],\n",
       "       [-1.71231941, -1.3985029 ],\n",
       "       [ 0.86241774, -0.70174634],\n",
       "       [ 0.76705711,  0.08210478],\n",
       "       [-1.33087687, -0.46949416],\n",
       "       [-0.94943432, -0.35336807],\n",
       "       [ 0.1948933 , -0.35336807],\n",
       "       [ 0.29025393,  0.45951457],\n",
       "       [ 2.00674537,  1.70787006],\n",
       "       [ 0.86241774, -1.48559747],\n",
       "       [-1.71231941,  0.31435696],\n",
       "       [-1.52159814, -0.46949416],\n",
       "       [ 1.05313902, -1.25334528],\n",
       "       [-0.47263115, -0.81787244],\n",
       "       [-0.28190988,  2.20140595],\n",
       "       [-0.28190988,  0.02404173],\n",
       "       [-0.09118861, -0.00498979],\n",
       "       [-0.28190988, -0.61465178],\n",
       "       [ 0.00417203, -0.29530502],\n",
       "       [-0.94943432, -1.13721919],\n",
       "       [-1.71231941, -1.0210931 ],\n",
       "       [ 1.91138473, -1.3985029 ],\n",
       "       [-1.61695877, -1.60172356],\n",
       "       [-0.37727051,  0.02404173],\n",
       "       [ 1.05313902, -0.93399853],\n",
       "       [ 0.1948933 ,  0.19823087],\n",
       "       [ 0.00417203, -0.58562025],\n",
       "       [-1.4262375 ,  0.31435696],\n",
       "       [-0.75871305,  1.30142874],\n",
       "       [-1.23551623, -1.10818767],\n",
       "       [ 0.86241774,  1.21433417],\n",
       "       [-0.09118861,  0.22726239],\n",
       "       [ 1.05313902, -0.17917893],\n",
       "       [-0.85407369, -0.81787244],\n",
       "       [ 0.86241774,  2.11431139],\n",
       "       [ 0.09953266,  0.05307325],\n",
       "       [ 0.86241774, -0.6436833 ],\n",
       "       [-0.94943432, -0.46949416],\n",
       "       [ 0.00417203,  0.25629391],\n",
       "       [ 1.14849965, -1.0210931 ],\n",
       "       [ 2.00674537,  0.4885461 ],\n",
       "       [ 0.57633584,  1.96915377],\n",
       "       [-0.56799178,  1.33046026],\n",
       "       [ 1.05313902,  0.43048305],\n",
       "       [ 0.86241774,  0.98208199],\n",
       "       [ 1.52994219,  0.95305047],\n",
       "       [-0.28190988, -0.78884091],\n",
       "       [-0.56799178,  0.83692437],\n",
       "       [ 0.4809752 ,  1.18530265],\n",
       "       [-0.28190988, -0.38239959],\n",
       "       [-0.09118861, -0.2662735 ],\n",
       "       [ 0.29025393,  0.22726239],\n",
       "       [ 0.38561457,  0.54660914],\n",
       "       [-0.09118861,  0.25629391],\n",
       "       [ 0.1948933 ,  0.1111363 ],\n",
       "       [-1.33087687, -1.2823768 ],\n",
       "       [ 0.38561457,  2.259469  ],\n",
       "       [ 2.00674537,  2.08527986],\n",
       "       [-1.33087687,  0.51757762],\n",
       "       [-0.18654924,  1.59174397],\n",
       "       [-0.18654924,  0.80789285],\n",
       "       [-1.61695877,  0.4885461 ],\n",
       "       [ 0.86241774, -0.81787244],\n",
       "       [-1.04479496, -1.48559747],\n",
       "       [-0.18654924, -1.10818767],\n",
       "       [ 0.00417203,  1.21433417],\n",
       "       [ 0.09953266, -0.35336807],\n",
       "       [ 0.1948933 , -0.29530502],\n",
       "       [ 0.29025393, -1.19528224],\n",
       "       [ 0.1948933 ,  0.1111363 ],\n",
       "       [-1.33087687, -1.51462899],\n",
       "       [ 2.102106  , -0.73077787],\n",
       "       [ 1.14849965, -0.78884091],\n",
       "       [ 0.95777838, -1.10818767],\n",
       "       [-0.37727051, -0.81787244],\n",
       "       [ 0.1948933 , -0.41143111],\n",
       "       [-1.52159814, -0.23724198],\n",
       "       [-0.75871305,  1.04014503],\n",
       "       [ 1.91138473,  0.8659559 ],\n",
       "       [-0.18654924,  1.35949179],\n",
       "       [-0.28190988, -0.46949416],\n",
       "       [ 2.102106  , -0.84690396],\n",
       "       [-0.56799178,  1.41755483],\n",
       "       [-0.09118861,  1.91109072],\n",
       "       [-1.33087687, -1.13721919],\n",
       "       [-0.28190988, -0.93399853],\n",
       "       [ 1.05313902,  0.08210478],\n",
       "       [ 0.57633584, -0.93399853],\n",
       "       [ 0.67169647, -1.42753442],\n",
       "       [-0.09118861,  0.08210478],\n",
       "       [ 1.33922092,  0.54660914],\n",
       "       [-0.75871305, -1.63075508],\n",
       "       [-0.85407369, -0.81787244],\n",
       "       [-1.33087687, -1.3985029 ],\n",
       "       [-1.14015559,  0.43048305],\n",
       "       [ 0.29025393, -0.55658873],\n",
       "       [ 0.29025393,  0.25629391],\n",
       "       [ 1.8160241 ,  1.47561788],\n",
       "       [-0.18654924, -0.23724198],\n",
       "       [ 0.86241774, -0.61465178],\n",
       "       [-1.90304068, -0.55658873],\n",
       "       [ 0.76705711, -0.35336807],\n",
       "       [ 0.09953266,  1.47561788],\n",
       "       [ 0.38561457,  1.06917656],\n",
       "       [-1.71231941, -0.6436833 ],\n",
       "       [-1.04479496,  0.51757762],\n",
       "       [ 0.1948933 , -0.00498979],\n",
       "       [-1.71231941,  0.31435696],\n",
       "       [-1.23551623,  0.45951457],\n",
       "       [-0.37727051,  1.18530265],\n",
       "       [-1.90304068, -0.78884091],\n",
       "       [ 1.33922092,  1.2433657 ],\n",
       "       [-1.71231941,  0.08210478],\n",
       "       [ 1.62530283, -0.93399853],\n",
       "       [ 0.4809752 ,  1.79496463],\n",
       "       [ 0.1948933 , -0.17917893],\n",
       "       [ 0.09953266, -0.00498979],\n",
       "       [ 2.00674537,  0.34338848],\n",
       "       [-1.4262375 , -1.48559747],\n",
       "       [ 1.05313902,  2.02721682],\n",
       "       [ 0.95777838,  1.94012225],\n",
       "       [ 0.09953266, -0.00498979],\n",
       "       [-1.80768004, -1.45656594],\n",
       "       [-0.56799178,  1.33046026],\n",
       "       [-0.56799178,  1.85302768],\n",
       "       [-0.09118861,  2.17237443],\n",
       "       [ 0.38561457,  0.25629391],\n",
       "       [-0.18654924,  0.1111363 ],\n",
       "       [-0.47263115, -1.16625071],\n",
       "       [-0.47263115, -0.32433655],\n",
       "       [ 0.09953266,  1.82399616],\n",
       "       [ 1.91138473,  0.69176676],\n",
       "       [-0.09118861, -0.46949416],\n",
       "       [-0.66335242,  0.08210478],\n",
       "       [-0.18654924,  2.11431139],\n",
       "       [ 0.09953266,  0.22726239],\n",
       "       [ 0.95777838, -1.22431376],\n",
       "       [-1.14015559, -0.55658873],\n",
       "       [ 0.95777838, -1.05012462],\n",
       "       [ 0.95777838,  1.38852331],\n",
       "       [-0.66335242, -0.00498979],\n",
       "       [ 0.95777838, -1.10818767],\n",
       "       [-0.28190988, -0.52755721],\n",
       "       [ 0.29025393,  0.02404173],\n",
       "       [ 1.43458156,  0.31435696],\n",
       "       [ 2.00674537, -1.22431376],\n",
       "       [-1.80768004,  0.14016782],\n",
       "       [-0.75871305,  0.25629391],\n",
       "       [ 1.8160241 , -0.32433655],\n",
       "       [ 0.29025393, -0.23724198],\n",
       "       [ 0.29025393, -0.35336807],\n",
       "       [ 0.29025393, -0.00498979],\n",
       "       [ 0.00417203, -0.35336807],\n",
       "       [-0.47263115, -0.58562025],\n",
       "       [-0.47263115, -0.87593548],\n",
       "       [-1.14015559,  0.25629391],\n",
       "       [-1.52159814, -1.54366051],\n",
       "       [ 0.67169647, -0.75980939],\n",
       "       [ 0.00417203, -0.17917893],\n",
       "       [ 1.72066346, -0.32433655],\n",
       "       [-0.28190988, -0.32433655],\n",
       "       [-0.75871305,  1.85302768],\n",
       "       [ 1.43458156,  2.08527986],\n",
       "       [-0.18654924, -0.61465178],\n",
       "       [ 0.1948933 , -0.32433655],\n",
       "       [-1.52159814, -1.2823768 ],\n",
       "       [-1.14015559, -1.19528224],\n",
       "       [-1.04479496,  0.72079828],\n",
       "       [ 0.67169647,  1.73690159],\n",
       "       [-1.14015559, -1.60172356],\n",
       "       [-0.09118861,  0.19823087],\n",
       "       [ 0.38561457, -0.17917893],\n",
       "       [ 0.00417203,  1.18530265],\n",
       "       [ 0.09953266, -0.29530502],\n",
       "       [ 2.102106  ,  1.06917656],\n",
       "       [ 0.76705711, -0.87593548],\n",
       "       [-1.04479496,  0.37242001],\n",
       "       [ 1.62530283,  1.56271245],\n",
       "       [-0.28190988,  0.02404173],\n",
       "       [ 0.38561457, -0.03402132],\n",
       "       [-0.28190988,  0.22726239],\n",
       "       [-0.09118861,  0.63370371],\n",
       "       [-0.18654924,  1.56271245],\n",
       "       [-0.85407369, -1.25334528],\n",
       "       [ 0.38561457,  0.22726239],\n",
       "       [-0.18654924, -0.32433655],\n",
       "       [ 0.4809752 ,  1.67883854],\n",
       "       [ 0.38561457, -0.52755721],\n",
       "       [-0.66335242, -0.15014741],\n",
       "       [ 0.67169647, -1.42753442],\n",
       "       [ 0.86241774,  1.04014503],\n",
       "       [ 2.102106  , -1.07915614],\n",
       "       [-0.66335242, -1.07915614],\n",
       "       [-0.28190988, -1.34043985],\n",
       "       [-1.80768004,  0.40145153],\n",
       "       [ 1.33922092,  2.28850052],\n",
       "       [-1.04479496,  0.4885461 ],\n",
       "       [ 0.95777838,  0.08210478],\n",
       "       [ 1.43458156, -1.07915614],\n",
       "       [-0.85407369, -0.70174634],\n",
       "       [-0.28190988, -0.00498979],\n",
       "       [ 0.09953266,  1.82399616],\n",
       "       [-0.66335242,  0.51757762],\n",
       "       [ 1.14849965,  0.4885461 ],\n",
       "       [-1.04479496,  0.54660914],\n",
       "       [-1.4262375 , -1.25334528],\n",
       "       [-1.04479496, -0.49852568],\n",
       "       [-0.28190988,  0.4885461 ],\n",
       "       [-0.66335242, -1.54366051],\n",
       "       [ 1.72066346,  1.79496463],\n",
       "       [ 0.76705711, -1.13721919],\n",
       "       [ 0.95777838,  1.82399616],\n",
       "       [ 0.09953266, -0.84690396],\n",
       "       [ 0.95777838,  0.72079828],\n",
       "       [ 0.76705711,  0.22726239],\n",
       "       [-0.28190988,  0.7498298 ],\n",
       "       [-1.14015559, -1.05012462],\n",
       "       [-1.90304068,  0.43048305],\n",
       "       [ 1.91138473,  2.11431139],\n",
       "       [ 1.52994219,  1.06917656],\n",
       "       [-1.14015559,  1.35949179],\n",
       "       [ 0.00417203, -0.61465178],\n",
       "       [ 0.86241774, -1.07915614],\n",
       "       [ 0.38561457,  0.05307325],\n",
       "       [-1.33087687,  0.37242001],\n",
       "       [-0.75871305,  0.45951457],\n",
       "       [ 0.1948933 ,  1.04014503],\n",
       "       [-0.56799178, -1.54366051],\n",
       "       [-0.56799178,  0.43048305],\n",
       "       [-0.28190988, -1.42753442],\n",
       "       [ 0.29025393,  0.02404173],\n",
       "       [ 0.38561457,  0.1111363 ],\n",
       "       [ 0.76705711,  0.4885461 ],\n",
       "       [ 1.05313902,  0.51757762],\n",
       "       [-1.14015559,  0.37242001],\n",
       "       [ 1.14849965, -1.48559747],\n",
       "       [-0.56799178,  2.28850052],\n",
       "       [ 0.86241774, -1.34043985],\n",
       "       [-1.14015559,  0.28532544],\n",
       "       [-0.94943432,  0.22726239],\n",
       "       [-0.18654924, -0.49852568],\n",
       "       [ 2.102106  ,  0.34338848],\n",
       "       [-0.85407369,  0.34338848],\n",
       "       [ 0.86241774, -0.58562025],\n",
       "       [ 1.33922092, -0.96303005],\n",
       "       [-0.47263115, -0.06305284],\n",
       "       [-1.80768004, -1.51462899],\n",
       "       [-0.94943432, -0.35336807],\n",
       "       [ 0.95777838, -1.19528224],\n",
       "       [ 0.95777838, -0.87593548],\n",
       "       [ 1.62530283,  1.70787006],\n",
       "       [ 0.29025393, -0.55658873],\n",
       "       [-0.09118861, -0.52755721],\n",
       "       [-0.66335242,  0.14016782],\n",
       "       [-0.09118861, -0.55658873],\n",
       "       [-0.28190988,  0.1111363 ],\n",
       "       [-0.28190988, -1.2823768 ],\n",
       "       [ 0.86241774, -1.3985029 ],\n",
       "       [-1.61695877, -0.09208436],\n",
       "       [-0.28190988, -0.61465178],\n",
       "       [ 0.29025393, -0.32433655],\n",
       "       [ 1.33922092, -1.45656594],\n",
       "       [ 1.43458156,  0.95305047],\n",
       "       [ 0.1948933 , -0.41143111],\n",
       "       [-0.09118861,  2.11431139],\n",
       "       [-1.23551623,  0.54660914],\n",
       "       [-1.80768004, -1.31140833],\n",
       "       [-1.4262375 , -0.23724198],\n",
       "       [-0.94943432,  0.40145153],\n",
       "       [ 0.67169647, -1.31140833],\n",
       "       [ 0.00417203, -0.00498979],\n",
       "       [-0.09118861, -1.10818767],\n",
       "       [-0.47263115, -1.25334528],\n",
       "       [-1.71231941,  0.43048305],\n",
       "       [ 1.52994219, -0.03402132],\n",
       "       [-0.18654924, -0.55658873],\n",
       "       [-0.75871305, -0.2662735 ],\n",
       "       [ 0.09953266, -0.84690396],\n",
       "       [-0.28190988,  0.1111363 ],\n",
       "       [-0.28190988, -0.96303005],\n",
       "       [ 0.1948933 ,  2.05624834],\n",
       "       [-1.04479496, -0.41143111],\n",
       "       [-0.28190988,  0.05307325],\n",
       "       [ 1.8160241 , -1.31140833],\n",
       "       [ 0.09953266,  0.1111363 ],\n",
       "       [ 0.76705711,  0.72079828],\n",
       "       [ 0.76705711,  1.33046026],\n",
       "       [ 1.05313902,  0.4885461 ],\n",
       "       [ 1.43458156,  0.02404173],\n",
       "       [ 0.76705711,  0.31435696],\n",
       "       [-0.85407369,  0.25629391],\n",
       "       [-1.33087687, -0.38239959],\n",
       "       [-0.28190988,  1.06917656],\n",
       "       [-1.23551623,  0.22726239],\n",
       "       [-1.23551623,  0.25629391],\n",
       "       [-1.52159814,  0.28532544],\n",
       "       [ 0.1948933 , -0.41143111],\n",
       "       [-0.28190988, -1.3985029 ],\n",
       "       [ 0.38561457, -0.20821045],\n",
       "       [-0.28190988, -0.35336807],\n",
       "       [-1.14015559, -1.57269203],\n",
       "       [-0.28190988, -0.29530502],\n",
       "       [-0.37727051,  1.27239722],\n",
       "       [ 0.95777838,  2.02721682],\n",
       "       [ 1.24386029,  2.17237443],\n",
       "       [-0.47263115,  1.21433417],\n",
       "       [-1.14015559,  0.02404173],\n",
       "       [-0.75871305, -0.6436833 ],\n",
       "       [ 2.00674537, -0.84690396],\n",
       "       [ 0.67169647, -1.13721919],\n",
       "       [ 1.91138473, -0.96303005],\n",
       "       [-1.80768004, -0.03402132],\n",
       "       [ 0.09953266,  0.72079828]])"
      ]
     },
     "execution_count": 33,
     "metadata": {},
     "output_type": "execute_result"
    }
   ],
   "source": [
    "train_xf"
   ]
  },
  {
   "cell_type": "code",
   "execution_count": 35,
   "metadata": {},
   "outputs": [],
   "source": [
    "# now applying on  test_x\n",
    "test_xf = std.transform(test_x)# as it is already fitted in training it is not neaded to fit during test"
   ]
  },
  {
   "cell_type": "code",
   "execution_count": 36,
   "metadata": {},
   "outputs": [],
   "source": [
    "# calling knn\n",
    "from sklearn.neighbors import KNeighborsClassifier"
   ]
  },
  {
   "cell_type": "code",
   "execution_count": 37,
   "metadata": {},
   "outputs": [],
   "source": [
    "kclf = KNeighborsClassifier()"
   ]
  },
  {
   "cell_type": "code",
   "execution_count": 40,
   "metadata": {},
   "outputs": [],
   "source": [
    "trained_knn = kclf.fit(train_xf,train_y)"
   ]
  },
  {
   "cell_type": "code",
   "execution_count": 42,
   "metadata": {},
   "outputs": [],
   "source": [
    "# predicting output\n",
    "output = trained_knn.predict(test_xf)"
   ]
  },
  {
   "cell_type": "code",
   "execution_count": 43,
   "metadata": {},
   "outputs": [],
   "source": [
    "# to check accuracy score\n",
    "from sklearn.metrics import accuracy_score\n"
   ]
  },
  {
   "cell_type": "code",
   "execution_count": 44,
   "metadata": {},
   "outputs": [
    {
     "data": {
      "text/plain": [
       "0.975"
      ]
     },
     "execution_count": 44,
     "metadata": {},
     "output_type": "execute_result"
    }
   ],
   "source": [
    "accuracy_score(test_y,output)"
   ]
  },
  {
   "cell_type": "code",
   "execution_count": 45,
   "metadata": {},
   "outputs": [],
   "source": [
    "# confusion matrix\n",
    "from sklearn.metrics import confusion_matrix"
   ]
  },
  {
   "cell_type": "code",
   "execution_count": 46,
   "metadata": {},
   "outputs": [
    {
     "data": {
      "text/plain": [
       "array([[55,  1],\n",
       "       [ 1, 23]])"
      ]
     },
     "execution_count": 46,
     "metadata": {},
     "output_type": "execute_result"
    }
   ],
   "source": [
    "confusion_matrix(test_y,output)"
   ]
  },
  {
   "cell_type": "code",
   "execution_count": null,
   "metadata": {},
   "outputs": [],
   "source": []
  }
 ],
 "metadata": {
  "kernelspec": {
   "display_name": "Python 3",
   "language": "python",
   "name": "python3"
  },
  "language_info": {
   "codemirror_mode": {
    "name": "ipython",
    "version": 3
   },
   "file_extension": ".py",
   "mimetype": "text/x-python",
   "name": "python",
   "nbconvert_exporter": "python",
   "pygments_lexer": "ipython3",
   "version": "3.6.8"
  }
 },
 "nbformat": 4,
 "nbformat_minor": 2
}
